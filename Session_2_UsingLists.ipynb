{
 "cells": [
  {
   "cell_type": "markdown",
   "id": "7b5be95b",
   "metadata": {},
   "source": [
    "$Using - list:$"
   ]
  },
  {
   "cell_type": "code",
   "execution_count": 4,
   "id": "81312d2a",
   "metadata": {},
   "outputs": [],
   "source": [
    "names=['Ram','Sita','Laxman']\n",
    "age=[25,22,20]"
   ]
  },
  {
   "cell_type": "code",
   "execution_count": 2,
   "id": "14e40ccc",
   "metadata": {},
   "outputs": [],
   "source": [
    "import pandas as pd"
   ]
  },
  {
   "cell_type": "code",
   "execution_count": 9,
   "id": "37dc5e2b",
   "metadata": {},
   "outputs": [],
   "source": [
    "data1=pd.DataFrame(data=zip(names,age),columns=['Names','Age'],index=['A','B','C'])"
   ]
  },
  {
   "cell_type": "code",
   "execution_count": 10,
   "id": "9672cff8",
   "metadata": {},
   "outputs": [
    {
     "data": {
      "text/html": [
       "<div>\n",
       "<style scoped>\n",
       "    .dataframe tbody tr th:only-of-type {\n",
       "        vertical-align: middle;\n",
       "    }\n",
       "\n",
       "    .dataframe tbody tr th {\n",
       "        vertical-align: top;\n",
       "    }\n",
       "\n",
       "    .dataframe thead th {\n",
       "        text-align: right;\n",
       "    }\n",
       "</style>\n",
       "<table border=\"1\" class=\"dataframe\">\n",
       "  <thead>\n",
       "    <tr style=\"text-align: right;\">\n",
       "      <th></th>\n",
       "      <th>Names</th>\n",
       "      <th>Age</th>\n",
       "    </tr>\n",
       "  </thead>\n",
       "  <tbody>\n",
       "    <tr>\n",
       "      <th>A</th>\n",
       "      <td>Ram</td>\n",
       "      <td>25</td>\n",
       "    </tr>\n",
       "    <tr>\n",
       "      <th>B</th>\n",
       "      <td>Sita</td>\n",
       "      <td>22</td>\n",
       "    </tr>\n",
       "    <tr>\n",
       "      <th>C</th>\n",
       "      <td>Laxman</td>\n",
       "      <td>20</td>\n",
       "    </tr>\n",
       "  </tbody>\n",
       "</table>\n",
       "</div>"
      ],
      "text/plain": [
       "    Names  Age\n",
       "A     Ram   25\n",
       "B    Sita   22\n",
       "C  Laxman   20"
      ]
     },
     "execution_count": 10,
     "metadata": {},
     "output_type": "execute_result"
    }
   ],
   "source": [
    "data1"
   ]
  },
  {
   "cell_type": "code",
   "execution_count": 11,
   "id": "ab3d9b81",
   "metadata": {},
   "outputs": [
    {
     "data": {
      "text/plain": [
       "'C:\\\\Users\\\\hp\\\\Data Science and AI\\\\Naresh IT\\\\Statistics_PART_1'"
      ]
     },
     "execution_count": 11,
     "metadata": {},
     "output_type": "execute_result"
    }
   ],
   "source": [
    "import os\n",
    "os.getcwd()"
   ]
  },
  {
   "cell_type": "code",
   "execution_count": 12,
   "id": "8dd44c41",
   "metadata": {},
   "outputs": [],
   "source": [
    "data1.to_csv(\"C:\\\\Users\\\\hp\\\\Data Science and AI\\\\Naresh IT\\\\Statistics_PART_1\\\\sample1.csv\")"
   ]
  },
  {
   "cell_type": "markdown",
   "id": "7300cefc",
   "metadata": {},
   "source": [
    "$Using$ - $Dictionary$"
   ]
  },
  {
   "cell_type": "code",
   "execution_count": 3,
   "id": "1532833b",
   "metadata": {},
   "outputs": [
    {
     "data": {
      "text/plain": [
       "{'Names': ['Ram', 'Sita', 'Laxman'], 'Ages': [25, 22, 20]}"
      ]
     },
     "execution_count": 3,
     "metadata": {},
     "output_type": "execute_result"
    }
   ],
   "source": [
    "dict1={'Names':['Ram','Sita','Laxman'],'Ages':[25,22,20]}\n",
    "dict1"
   ]
  },
  {
   "cell_type": "code",
   "execution_count": 15,
   "id": "1ae4145e",
   "metadata": {},
   "outputs": [
    {
     "data": {
      "text/html": [
       "<div>\n",
       "<style scoped>\n",
       "    .dataframe tbody tr th:only-of-type {\n",
       "        vertical-align: middle;\n",
       "    }\n",
       "\n",
       "    .dataframe tbody tr th {\n",
       "        vertical-align: top;\n",
       "    }\n",
       "\n",
       "    .dataframe thead th {\n",
       "        text-align: right;\n",
       "    }\n",
       "</style>\n",
       "<table border=\"1\" class=\"dataframe\">\n",
       "  <thead>\n",
       "    <tr style=\"text-align: right;\">\n",
       "      <th></th>\n",
       "      <th>Names</th>\n",
       "      <th>Ages</th>\n",
       "    </tr>\n",
       "  </thead>\n",
       "  <tbody>\n",
       "    <tr>\n",
       "      <th>1</th>\n",
       "      <td>Ram</td>\n",
       "      <td>25</td>\n",
       "    </tr>\n",
       "    <tr>\n",
       "      <th>2</th>\n",
       "      <td>Sita</td>\n",
       "      <td>22</td>\n",
       "    </tr>\n",
       "    <tr>\n",
       "      <th>3</th>\n",
       "      <td>Laxman</td>\n",
       "      <td>20</td>\n",
       "    </tr>\n",
       "  </tbody>\n",
       "</table>\n",
       "</div>"
      ],
      "text/plain": [
       "    Names  Ages\n",
       "1     Ram    25\n",
       "2    Sita    22\n",
       "3  Laxman    20"
      ]
     },
     "execution_count": 15,
     "metadata": {},
     "output_type": "execute_result"
    }
   ],
   "source": [
    "pd.DataFrame(dict1,index=[1,2,3])"
   ]
  },
  {
   "cell_type": "code",
   "execution_count": 5,
   "id": "4ab8e07e",
   "metadata": {},
   "outputs": [
    {
     "data": {
      "text/plain": [
       "{'Col1': ['Ram', 'Sita', 'Laxman'], 'Col2': [25, 22, 20]}"
      ]
     },
     "execution_count": 5,
     "metadata": {},
     "output_type": "execute_result"
    }
   ],
   "source": [
    "dict1={\"Col1\":['Ram','Sita','Laxman'],\n",
    "      \"Col2\":[25,22,20]}\n",
    "\n",
    "dict1"
   ]
  },
  {
   "cell_type": "code",
   "execution_count": 6,
   "id": "a6a16242",
   "metadata": {},
   "outputs": [
    {
     "data": {
      "text/html": [
       "<div>\n",
       "<style scoped>\n",
       "    .dataframe tbody tr th:only-of-type {\n",
       "        vertical-align: middle;\n",
       "    }\n",
       "\n",
       "    .dataframe tbody tr th {\n",
       "        vertical-align: top;\n",
       "    }\n",
       "\n",
       "    .dataframe thead th {\n",
       "        text-align: right;\n",
       "    }\n",
       "</style>\n",
       "<table border=\"1\" class=\"dataframe\">\n",
       "  <thead>\n",
       "    <tr style=\"text-align: right;\">\n",
       "      <th></th>\n",
       "      <th>Col1</th>\n",
       "      <th>Col2</th>\n",
       "    </tr>\n",
       "  </thead>\n",
       "  <tbody>\n",
       "    <tr>\n",
       "      <th>0</th>\n",
       "      <td>Ram</td>\n",
       "      <td>25</td>\n",
       "    </tr>\n",
       "    <tr>\n",
       "      <th>1</th>\n",
       "      <td>Sita</td>\n",
       "      <td>22</td>\n",
       "    </tr>\n",
       "    <tr>\n",
       "      <th>2</th>\n",
       "      <td>Laxman</td>\n",
       "      <td>20</td>\n",
       "    </tr>\n",
       "  </tbody>\n",
       "</table>\n",
       "</div>"
      ],
      "text/plain": [
       "     Col1  Col2\n",
       "0     Ram    25\n",
       "1    Sita    22\n",
       "2  Laxman    20"
      ]
     },
     "execution_count": 6,
     "metadata": {},
     "output_type": "execute_result"
    }
   ],
   "source": [
    "data2=pd.DataFrame(dict1)\n",
    "data2\n",
    "\n",
    "# keys are default as columns"
   ]
  },
  {
   "cell_type": "code",
   "execution_count": null,
   "id": "b1a27054",
   "metadata": {},
   "outputs": [],
   "source": []
  }
 ],
 "metadata": {
  "kernelspec": {
   "display_name": "Python 3 (ipykernel)",
   "language": "python",
   "name": "python3"
  },
  "language_info": {
   "codemirror_mode": {
    "name": "ipython",
    "version": 3
   },
   "file_extension": ".py",
   "mimetype": "text/x-python",
   "name": "python",
   "nbconvert_exporter": "python",
   "pygments_lexer": "ipython3",
   "version": "3.11.3"
  }
 },
 "nbformat": 4,
 "nbformat_minor": 5
}
