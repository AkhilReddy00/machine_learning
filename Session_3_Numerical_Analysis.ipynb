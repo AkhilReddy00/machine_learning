{
 "cells": [
  {
   "cell_type": "code",
   "execution_count": null,
   "id": "4fb5c7ca",
   "metadata": {},
   "outputs": [],
   "source": [
    "- Reading data perform retrieve data operations\n",
    "- categroical data\n",
    "- numerical analysis\n",
    "- outlier analysis\n",
    "- missing values analysis\n",
    "- data conversions\n",
    "- standardisation and normalisation of the data"
   ]
  },
  {
   "cell_type": "code",
   "execution_count": 1,
   "id": "83fdfcbc",
   "metadata": {},
   "outputs": [],
   "source": [
    "import pandas as pd\n",
    "import numpy as np\n",
    "import matplotlib.pyplot as plt\n",
    "import seaborn as sns"
   ]
  },
  {
   "cell_type": "code",
   "execution_count": 2,
   "id": "a455f114",
   "metadata": {},
   "outputs": [],
   "source": [
    "file_name=\"C:\\\\Users\\\\hp\\\\Data Science and AI\\\\Naresh IT\\\\Statistics_PART_1\\\\Sessions\\\\Session_3_Numerical_Analysis\\\\Visadataset.csv\"\n",
    "visa_dataset=pd.read_csv(file_name)"
   ]
  },
  {
   "cell_type": "code",
   "execution_count": 3,
   "id": "3ce7a24d",
   "metadata": {},
   "outputs": [
    {
     "data": {
      "text/html": [
       "<div>\n",
       "<style scoped>\n",
       "    .dataframe tbody tr th:only-of-type {\n",
       "        vertical-align: middle;\n",
       "    }\n",
       "\n",
       "    .dataframe tbody tr th {\n",
       "        vertical-align: top;\n",
       "    }\n",
       "\n",
       "    .dataframe thead th {\n",
       "        text-align: right;\n",
       "    }\n",
       "</style>\n",
       "<table border=\"1\" class=\"dataframe\">\n",
       "  <thead>\n",
       "    <tr style=\"text-align: right;\">\n",
       "      <th></th>\n",
       "      <th>case_id</th>\n",
       "      <th>continent</th>\n",
       "      <th>education_of_employee</th>\n",
       "      <th>has_job_experience</th>\n",
       "      <th>requires_job_training</th>\n",
       "      <th>no_of_employees</th>\n",
       "      <th>yr_of_estab</th>\n",
       "      <th>region_of_employment</th>\n",
       "      <th>prevailing_wage</th>\n",
       "      <th>unit_of_wage</th>\n",
       "      <th>full_time_position</th>\n",
       "      <th>case_status</th>\n",
       "    </tr>\n",
       "  </thead>\n",
       "  <tbody>\n",
       "    <tr>\n",
       "      <th>0</th>\n",
       "      <td>EZYV01</td>\n",
       "      <td>Asia</td>\n",
       "      <td>High School</td>\n",
       "      <td>N</td>\n",
       "      <td>N</td>\n",
       "      <td>14513</td>\n",
       "      <td>2007</td>\n",
       "      <td>West</td>\n",
       "      <td>592.2029</td>\n",
       "      <td>Hour</td>\n",
       "      <td>Y</td>\n",
       "      <td>Denied</td>\n",
       "    </tr>\n",
       "    <tr>\n",
       "      <th>1</th>\n",
       "      <td>EZYV02</td>\n",
       "      <td>Asia</td>\n",
       "      <td>Master's</td>\n",
       "      <td>Y</td>\n",
       "      <td>N</td>\n",
       "      <td>2412</td>\n",
       "      <td>2002</td>\n",
       "      <td>Northeast</td>\n",
       "      <td>83425.6500</td>\n",
       "      <td>Year</td>\n",
       "      <td>Y</td>\n",
       "      <td>Certified</td>\n",
       "    </tr>\n",
       "    <tr>\n",
       "      <th>2</th>\n",
       "      <td>EZYV03</td>\n",
       "      <td>Asia</td>\n",
       "      <td>Bachelor's</td>\n",
       "      <td>N</td>\n",
       "      <td>Y</td>\n",
       "      <td>44444</td>\n",
       "      <td>2008</td>\n",
       "      <td>West</td>\n",
       "      <td>122996.8600</td>\n",
       "      <td>Year</td>\n",
       "      <td>Y</td>\n",
       "      <td>Denied</td>\n",
       "    </tr>\n",
       "    <tr>\n",
       "      <th>3</th>\n",
       "      <td>EZYV04</td>\n",
       "      <td>Asia</td>\n",
       "      <td>Bachelor's</td>\n",
       "      <td>N</td>\n",
       "      <td>N</td>\n",
       "      <td>98</td>\n",
       "      <td>1897</td>\n",
       "      <td>West</td>\n",
       "      <td>83434.0300</td>\n",
       "      <td>Year</td>\n",
       "      <td>Y</td>\n",
       "      <td>Denied</td>\n",
       "    </tr>\n",
       "    <tr>\n",
       "      <th>4</th>\n",
       "      <td>EZYV05</td>\n",
       "      <td>Africa</td>\n",
       "      <td>Master's</td>\n",
       "      <td>Y</td>\n",
       "      <td>N</td>\n",
       "      <td>1082</td>\n",
       "      <td>2005</td>\n",
       "      <td>South</td>\n",
       "      <td>149907.3900</td>\n",
       "      <td>Year</td>\n",
       "      <td>Y</td>\n",
       "      <td>Certified</td>\n",
       "    </tr>\n",
       "    <tr>\n",
       "      <th>...</th>\n",
       "      <td>...</td>\n",
       "      <td>...</td>\n",
       "      <td>...</td>\n",
       "      <td>...</td>\n",
       "      <td>...</td>\n",
       "      <td>...</td>\n",
       "      <td>...</td>\n",
       "      <td>...</td>\n",
       "      <td>...</td>\n",
       "      <td>...</td>\n",
       "      <td>...</td>\n",
       "      <td>...</td>\n",
       "    </tr>\n",
       "    <tr>\n",
       "      <th>25475</th>\n",
       "      <td>EZYV25476</td>\n",
       "      <td>Asia</td>\n",
       "      <td>Bachelor's</td>\n",
       "      <td>Y</td>\n",
       "      <td>Y</td>\n",
       "      <td>2601</td>\n",
       "      <td>2008</td>\n",
       "      <td>South</td>\n",
       "      <td>77092.5700</td>\n",
       "      <td>Year</td>\n",
       "      <td>Y</td>\n",
       "      <td>Certified</td>\n",
       "    </tr>\n",
       "    <tr>\n",
       "      <th>25476</th>\n",
       "      <td>EZYV25477</td>\n",
       "      <td>Asia</td>\n",
       "      <td>High School</td>\n",
       "      <td>Y</td>\n",
       "      <td>N</td>\n",
       "      <td>3274</td>\n",
       "      <td>2006</td>\n",
       "      <td>Northeast</td>\n",
       "      <td>279174.7900</td>\n",
       "      <td>Year</td>\n",
       "      <td>Y</td>\n",
       "      <td>Certified</td>\n",
       "    </tr>\n",
       "    <tr>\n",
       "      <th>25477</th>\n",
       "      <td>EZYV25478</td>\n",
       "      <td>Asia</td>\n",
       "      <td>Master's</td>\n",
       "      <td>Y</td>\n",
       "      <td>N</td>\n",
       "      <td>1121</td>\n",
       "      <td>1910</td>\n",
       "      <td>South</td>\n",
       "      <td>146298.8500</td>\n",
       "      <td>Year</td>\n",
       "      <td>N</td>\n",
       "      <td>Certified</td>\n",
       "    </tr>\n",
       "    <tr>\n",
       "      <th>25478</th>\n",
       "      <td>EZYV25479</td>\n",
       "      <td>Asia</td>\n",
       "      <td>Master's</td>\n",
       "      <td>Y</td>\n",
       "      <td>Y</td>\n",
       "      <td>1918</td>\n",
       "      <td>1887</td>\n",
       "      <td>West</td>\n",
       "      <td>86154.7700</td>\n",
       "      <td>Year</td>\n",
       "      <td>Y</td>\n",
       "      <td>Certified</td>\n",
       "    </tr>\n",
       "    <tr>\n",
       "      <th>25479</th>\n",
       "      <td>EZYV25480</td>\n",
       "      <td>Asia</td>\n",
       "      <td>Bachelor's</td>\n",
       "      <td>Y</td>\n",
       "      <td>N</td>\n",
       "      <td>3195</td>\n",
       "      <td>1960</td>\n",
       "      <td>Midwest</td>\n",
       "      <td>70876.9100</td>\n",
       "      <td>Year</td>\n",
       "      <td>Y</td>\n",
       "      <td>Certified</td>\n",
       "    </tr>\n",
       "  </tbody>\n",
       "</table>\n",
       "<p>25480 rows × 12 columns</p>\n",
       "</div>"
      ],
      "text/plain": [
       "         case_id continent education_of_employee has_job_experience  \\\n",
       "0         EZYV01      Asia           High School                  N   \n",
       "1         EZYV02      Asia              Master's                  Y   \n",
       "2         EZYV03      Asia            Bachelor's                  N   \n",
       "3         EZYV04      Asia            Bachelor's                  N   \n",
       "4         EZYV05    Africa              Master's                  Y   \n",
       "...          ...       ...                   ...                ...   \n",
       "25475  EZYV25476      Asia            Bachelor's                  Y   \n",
       "25476  EZYV25477      Asia           High School                  Y   \n",
       "25477  EZYV25478      Asia              Master's                  Y   \n",
       "25478  EZYV25479      Asia              Master's                  Y   \n",
       "25479  EZYV25480      Asia            Bachelor's                  Y   \n",
       "\n",
       "      requires_job_training  no_of_employees  yr_of_estab  \\\n",
       "0                         N            14513         2007   \n",
       "1                         N             2412         2002   \n",
       "2                         Y            44444         2008   \n",
       "3                         N               98         1897   \n",
       "4                         N             1082         2005   \n",
       "...                     ...              ...          ...   \n",
       "25475                     Y             2601         2008   \n",
       "25476                     N             3274         2006   \n",
       "25477                     N             1121         1910   \n",
       "25478                     Y             1918         1887   \n",
       "25479                     N             3195         1960   \n",
       "\n",
       "      region_of_employment  prevailing_wage unit_of_wage full_time_position  \\\n",
       "0                     West         592.2029         Hour                  Y   \n",
       "1                Northeast       83425.6500         Year                  Y   \n",
       "2                     West      122996.8600         Year                  Y   \n",
       "3                     West       83434.0300         Year                  Y   \n",
       "4                    South      149907.3900         Year                  Y   \n",
       "...                    ...              ...          ...                ...   \n",
       "25475                South       77092.5700         Year                  Y   \n",
       "25476            Northeast      279174.7900         Year                  Y   \n",
       "25477                South      146298.8500         Year                  N   \n",
       "25478                 West       86154.7700         Year                  Y   \n",
       "25479              Midwest       70876.9100         Year                  Y   \n",
       "\n",
       "      case_status  \n",
       "0          Denied  \n",
       "1       Certified  \n",
       "2          Denied  \n",
       "3          Denied  \n",
       "4       Certified  \n",
       "...           ...  \n",
       "25475   Certified  \n",
       "25476   Certified  \n",
       "25477   Certified  \n",
       "25478   Certified  \n",
       "25479   Certified  \n",
       "\n",
       "[25480 rows x 12 columns]"
      ]
     },
     "execution_count": 3,
     "metadata": {},
     "output_type": "execute_result"
    }
   ],
   "source": [
    "visa_dataset"
   ]
  },
  {
   "cell_type": "code",
   "execution_count": 4,
   "id": "8425aea3",
   "metadata": {},
   "outputs": [
    {
     "data": {
      "text/html": [
       "<div>\n",
       "<style scoped>\n",
       "    .dataframe tbody tr th:only-of-type {\n",
       "        vertical-align: middle;\n",
       "    }\n",
       "\n",
       "    .dataframe tbody tr th {\n",
       "        vertical-align: top;\n",
       "    }\n",
       "\n",
       "    .dataframe thead th {\n",
       "        text-align: right;\n",
       "    }\n",
       "</style>\n",
       "<table border=\"1\" class=\"dataframe\">\n",
       "  <thead>\n",
       "    <tr style=\"text-align: right;\">\n",
       "      <th></th>\n",
       "      <th>case_id</th>\n",
       "      <th>continent</th>\n",
       "      <th>education_of_employee</th>\n",
       "      <th>has_job_experience</th>\n",
       "      <th>requires_job_training</th>\n",
       "      <th>no_of_employees</th>\n",
       "      <th>yr_of_estab</th>\n",
       "      <th>region_of_employment</th>\n",
       "      <th>prevailing_wage</th>\n",
       "      <th>unit_of_wage</th>\n",
       "      <th>full_time_position</th>\n",
       "      <th>case_status</th>\n",
       "    </tr>\n",
       "  </thead>\n",
       "  <tbody>\n",
       "    <tr>\n",
       "      <th>0</th>\n",
       "      <td>EZYV01</td>\n",
       "      <td>Asia</td>\n",
       "      <td>High School</td>\n",
       "      <td>N</td>\n",
       "      <td>N</td>\n",
       "      <td>14513</td>\n",
       "      <td>2007</td>\n",
       "      <td>West</td>\n",
       "      <td>592.2029</td>\n",
       "      <td>Hour</td>\n",
       "      <td>Y</td>\n",
       "      <td>Denied</td>\n",
       "    </tr>\n",
       "    <tr>\n",
       "      <th>1</th>\n",
       "      <td>EZYV02</td>\n",
       "      <td>Asia</td>\n",
       "      <td>Master's</td>\n",
       "      <td>Y</td>\n",
       "      <td>N</td>\n",
       "      <td>2412</td>\n",
       "      <td>2002</td>\n",
       "      <td>Northeast</td>\n",
       "      <td>83425.6500</td>\n",
       "      <td>Year</td>\n",
       "      <td>Y</td>\n",
       "      <td>Certified</td>\n",
       "    </tr>\n",
       "    <tr>\n",
       "      <th>2</th>\n",
       "      <td>EZYV03</td>\n",
       "      <td>Asia</td>\n",
       "      <td>Bachelor's</td>\n",
       "      <td>N</td>\n",
       "      <td>Y</td>\n",
       "      <td>44444</td>\n",
       "      <td>2008</td>\n",
       "      <td>West</td>\n",
       "      <td>122996.8600</td>\n",
       "      <td>Year</td>\n",
       "      <td>Y</td>\n",
       "      <td>Denied</td>\n",
       "    </tr>\n",
       "    <tr>\n",
       "      <th>3</th>\n",
       "      <td>EZYV04</td>\n",
       "      <td>Asia</td>\n",
       "      <td>Bachelor's</td>\n",
       "      <td>N</td>\n",
       "      <td>N</td>\n",
       "      <td>98</td>\n",
       "      <td>1897</td>\n",
       "      <td>West</td>\n",
       "      <td>83434.0300</td>\n",
       "      <td>Year</td>\n",
       "      <td>Y</td>\n",
       "      <td>Denied</td>\n",
       "    </tr>\n",
       "    <tr>\n",
       "      <th>4</th>\n",
       "      <td>EZYV05</td>\n",
       "      <td>Africa</td>\n",
       "      <td>Master's</td>\n",
       "      <td>Y</td>\n",
       "      <td>N</td>\n",
       "      <td>1082</td>\n",
       "      <td>2005</td>\n",
       "      <td>South</td>\n",
       "      <td>149907.3900</td>\n",
       "      <td>Year</td>\n",
       "      <td>Y</td>\n",
       "      <td>Certified</td>\n",
       "    </tr>\n",
       "  </tbody>\n",
       "</table>\n",
       "</div>"
      ],
      "text/plain": [
       "  case_id continent education_of_employee has_job_experience  \\\n",
       "0  EZYV01      Asia           High School                  N   \n",
       "1  EZYV02      Asia              Master's                  Y   \n",
       "2  EZYV03      Asia            Bachelor's                  N   \n",
       "3  EZYV04      Asia            Bachelor's                  N   \n",
       "4  EZYV05    Africa              Master's                  Y   \n",
       "\n",
       "  requires_job_training  no_of_employees  yr_of_estab region_of_employment  \\\n",
       "0                     N            14513         2007                 West   \n",
       "1                     N             2412         2002            Northeast   \n",
       "2                     Y            44444         2008                 West   \n",
       "3                     N               98         1897                 West   \n",
       "4                     N             1082         2005                South   \n",
       "\n",
       "   prevailing_wage unit_of_wage full_time_position case_status  \n",
       "0         592.2029         Hour                  Y      Denied  \n",
       "1       83425.6500         Year                  Y   Certified  \n",
       "2      122996.8600         Year                  Y      Denied  \n",
       "3       83434.0300         Year                  Y      Denied  \n",
       "4      149907.3900         Year                  Y   Certified  "
      ]
     },
     "execution_count": 4,
     "metadata": {},
     "output_type": "execute_result"
    }
   ],
   "source": [
    "visa_dataset.head()"
   ]
  },
  {
   "cell_type": "code",
   "execution_count": 5,
   "id": "d2c61e33",
   "metadata": {},
   "outputs": [
    {
     "data": {
      "text/plain": [
       "case_id                   object\n",
       "continent                 object\n",
       "education_of_employee     object\n",
       "has_job_experience        object\n",
       "requires_job_training     object\n",
       "no_of_employees            int64\n",
       "yr_of_estab                int64\n",
       "region_of_employment      object\n",
       "prevailing_wage          float64\n",
       "unit_of_wage              object\n",
       "full_time_position        object\n",
       "case_status               object\n",
       "dtype: object"
      ]
     },
     "execution_count": 5,
     "metadata": {},
     "output_type": "execute_result"
    }
   ],
   "source": [
    "visa_dataset.dtypes"
   ]
  },
  {
   "cell_type": "markdown",
   "id": "70d948ea",
   "metadata": {},
   "source": [
    "**How to read a specific column**"
   ]
  },
  {
   "cell_type": "markdown",
   "id": "ee172acc",
   "metadata": {},
   "source": [
    "- iloc\n",
    "- loc\n",
    "- take"
   ]
  },
  {
   "cell_type": "code",
   "execution_count": 6,
   "id": "a047c36e",
   "metadata": {},
   "outputs": [
    {
     "data": {
      "text/plain": [
       "0          Asia\n",
       "1          Asia\n",
       "2          Asia\n",
       "3          Asia\n",
       "4        Africa\n",
       "          ...  \n",
       "25475      Asia\n",
       "25476      Asia\n",
       "25477      Asia\n",
       "25478      Asia\n",
       "25479      Asia\n",
       "Name: continent, Length: 25480, dtype: object"
      ]
     },
     "execution_count": 6,
     "metadata": {},
     "output_type": "execute_result"
    }
   ],
   "source": [
    "visa_dataset['continent']"
   ]
  },
  {
   "cell_type": "code",
   "execution_count": 7,
   "id": "dc25c7e2",
   "metadata": {},
   "outputs": [
    {
     "data": {
      "text/plain": [
       "pandas.core.series.Series"
      ]
     },
     "execution_count": 7,
     "metadata": {},
     "output_type": "execute_result"
    }
   ],
   "source": [
    "type(visa_dataset['continent'])"
   ]
  },
  {
   "cell_type": "markdown",
   "id": "10c58ae6",
   "metadata": {},
   "source": [
    "**I want to read two columns at a time**"
   ]
  },
  {
   "cell_type": "code",
   "execution_count": 8,
   "id": "acfbd50c",
   "metadata": {},
   "outputs": [
    {
     "data": {
      "text/html": [
       "<div>\n",
       "<style scoped>\n",
       "    .dataframe tbody tr th:only-of-type {\n",
       "        vertical-align: middle;\n",
       "    }\n",
       "\n",
       "    .dataframe tbody tr th {\n",
       "        vertical-align: top;\n",
       "    }\n",
       "\n",
       "    .dataframe thead th {\n",
       "        text-align: right;\n",
       "    }\n",
       "</style>\n",
       "<table border=\"1\" class=\"dataframe\">\n",
       "  <thead>\n",
       "    <tr style=\"text-align: right;\">\n",
       "      <th></th>\n",
       "      <th>continent</th>\n",
       "      <th>education_of_employee</th>\n",
       "    </tr>\n",
       "  </thead>\n",
       "  <tbody>\n",
       "    <tr>\n",
       "      <th>0</th>\n",
       "      <td>Asia</td>\n",
       "      <td>High School</td>\n",
       "    </tr>\n",
       "    <tr>\n",
       "      <th>1</th>\n",
       "      <td>Asia</td>\n",
       "      <td>Master's</td>\n",
       "    </tr>\n",
       "    <tr>\n",
       "      <th>2</th>\n",
       "      <td>Asia</td>\n",
       "      <td>Bachelor's</td>\n",
       "    </tr>\n",
       "    <tr>\n",
       "      <th>3</th>\n",
       "      <td>Asia</td>\n",
       "      <td>Bachelor's</td>\n",
       "    </tr>\n",
       "    <tr>\n",
       "      <th>4</th>\n",
       "      <td>Africa</td>\n",
       "      <td>Master's</td>\n",
       "    </tr>\n",
       "    <tr>\n",
       "      <th>...</th>\n",
       "      <td>...</td>\n",
       "      <td>...</td>\n",
       "    </tr>\n",
       "    <tr>\n",
       "      <th>25475</th>\n",
       "      <td>Asia</td>\n",
       "      <td>Bachelor's</td>\n",
       "    </tr>\n",
       "    <tr>\n",
       "      <th>25476</th>\n",
       "      <td>Asia</td>\n",
       "      <td>High School</td>\n",
       "    </tr>\n",
       "    <tr>\n",
       "      <th>25477</th>\n",
       "      <td>Asia</td>\n",
       "      <td>Master's</td>\n",
       "    </tr>\n",
       "    <tr>\n",
       "      <th>25478</th>\n",
       "      <td>Asia</td>\n",
       "      <td>Master's</td>\n",
       "    </tr>\n",
       "    <tr>\n",
       "      <th>25479</th>\n",
       "      <td>Asia</td>\n",
       "      <td>Bachelor's</td>\n",
       "    </tr>\n",
       "  </tbody>\n",
       "</table>\n",
       "<p>25480 rows × 2 columns</p>\n",
       "</div>"
      ],
      "text/plain": [
       "      continent education_of_employee\n",
       "0          Asia           High School\n",
       "1          Asia              Master's\n",
       "2          Asia            Bachelor's\n",
       "3          Asia            Bachelor's\n",
       "4        Africa              Master's\n",
       "...         ...                   ...\n",
       "25475      Asia            Bachelor's\n",
       "25476      Asia           High School\n",
       "25477      Asia              Master's\n",
       "25478      Asia              Master's\n",
       "25479      Asia            Bachelor's\n",
       "\n",
       "[25480 rows x 2 columns]"
      ]
     },
     "execution_count": 8,
     "metadata": {},
     "output_type": "execute_result"
    }
   ],
   "source": [
    "# two three ======>> list\n",
    "list1=['continent','education_of_employee']\n",
    "visa_dataset[list1]"
   ]
  },
  {
   "cell_type": "code",
   "execution_count": 9,
   "id": "d514c26f",
   "metadata": {},
   "outputs": [
    {
     "data": {
      "text/plain": [
       "pandas.core.frame.DataFrame"
      ]
     },
     "execution_count": 9,
     "metadata": {},
     "output_type": "execute_result"
    }
   ],
   "source": [
    "type(visa_dataset[list1])"
   ]
  },
  {
   "cell_type": "code",
   "execution_count": 10,
   "id": "6a42780d",
   "metadata": {},
   "outputs": [
    {
     "data": {
      "text/plain": [
       "pandas.core.series.Series"
      ]
     },
     "execution_count": 10,
     "metadata": {},
     "output_type": "execute_result"
    }
   ],
   "source": [
    "type(visa_dataset['continent'])"
   ]
  },
  {
   "cell_type": "code",
   "execution_count": 11,
   "id": "8adeb82c",
   "metadata": {},
   "outputs": [
    {
     "data": {
      "text/plain": [
       "array(['Asia', 'Africa', 'North America', 'Europe', 'South America',\n",
       "       'Oceania'], dtype=object)"
      ]
     },
     "execution_count": 11,
     "metadata": {},
     "output_type": "execute_result"
    }
   ],
   "source": [
    "visa_dataset['continent'].unique()"
   ]
  },
  {
   "cell_type": "markdown",
   "id": "76e4f069",
   "metadata": {},
   "source": [
    "$nunique:$"
   ]
  },
  {
   "cell_type": "code",
   "execution_count": 12,
   "id": "b10e6970",
   "metadata": {},
   "outputs": [
    {
     "data": {
      "text/plain": [
       "6"
      ]
     },
     "execution_count": 12,
     "metadata": {},
     "output_type": "execute_result"
    }
   ],
   "source": [
    "visa_dataset['continent'].nunique()"
   ]
  },
  {
   "cell_type": "code",
   "execution_count": 13,
   "id": "18761a5f",
   "metadata": {},
   "outputs": [
    {
     "data": {
      "text/plain": [
       "6"
      ]
     },
     "execution_count": 13,
     "metadata": {},
     "output_type": "execute_result"
    }
   ],
   "source": [
    "len(visa_dataset['continent'].unique())"
   ]
  },
  {
   "cell_type": "code",
   "execution_count": 14,
   "id": "39da90cf",
   "metadata": {},
   "outputs": [
    {
     "data": {
      "text/plain": [
       "array(['continent', 'education_of_employee'], dtype='<U21')"
      ]
     },
     "execution_count": 14,
     "metadata": {},
     "output_type": "execute_result"
    }
   ],
   "source": [
    "np.array(list1)"
   ]
  },
  {
   "cell_type": "markdown",
   "id": "a28c797f",
   "metadata": {},
   "source": [
    "$Value$-$Counts$"
   ]
  },
  {
   "cell_type": "code",
   "execution_count": 15,
   "id": "f87362c4",
   "metadata": {},
   "outputs": [
    {
     "data": {
      "text/plain": [
       "Asia             16861\n",
       "Europe            3732\n",
       "North America     3292\n",
       "South America      852\n",
       "Africa             551\n",
       "Oceania            192\n",
       "Name: continent, dtype: int64"
      ]
     },
     "execution_count": 15,
     "metadata": {},
     "output_type": "execute_result"
    }
   ],
   "source": [
    "visa_dataset['continent'].value_counts()"
   ]
  },
  {
   "cell_type": "code",
   "execution_count": 16,
   "id": "3ae7ce75",
   "metadata": {},
   "outputs": [
    {
     "data": {
      "text/plain": [
       "pandas.core.series.Series"
      ]
     },
     "execution_count": 16,
     "metadata": {},
     "output_type": "execute_result"
    }
   ],
   "source": [
    "type(visa_dataset['continent'].value_counts())"
   ]
  },
  {
   "cell_type": "code",
   "execution_count": 17,
   "id": "09ccf2fa",
   "metadata": {},
   "outputs": [
    {
     "data": {
      "text/plain": [
       "array(['Asia', 'Asia', 'Asia', ..., 'Asia', 'Asia', 'Asia'], dtype=object)"
      ]
     },
     "execution_count": 17,
     "metadata": {},
     "output_type": "execute_result"
    }
   ],
   "source": [
    "visa_dataset['continent'].values"
   ]
  },
  {
   "cell_type": "code",
   "execution_count": 18,
   "id": "62b045c2",
   "metadata": {},
   "outputs": [
    {
     "data": {
      "text/plain": [
       "Index(['Asia', 'Europe', 'North America', 'South America', 'Africa',\n",
       "       'Oceania'],\n",
       "      dtype='object')"
      ]
     },
     "execution_count": 18,
     "metadata": {},
     "output_type": "execute_result"
    }
   ],
   "source": [
    "visa_dataset['continent'].value_counts().keys()"
   ]
  },
  {
   "cell_type": "code",
   "execution_count": 25,
   "id": "82ff81b3",
   "metadata": {},
   "outputs": [
    {
     "data": {
      "text/plain": [
       "pandas.core.indexes.base.Index"
      ]
     },
     "execution_count": 25,
     "metadata": {},
     "output_type": "execute_result"
    }
   ],
   "source": [
    "type(visa_dataset['continent'].value_counts().keys())"
   ]
  },
  {
   "cell_type": "code",
   "execution_count": 19,
   "id": "2c423d0b",
   "metadata": {},
   "outputs": [
    {
     "data": {
      "text/plain": [
       "[16861, 3732, 3292, 852, 551, 192]"
      ]
     },
     "execution_count": 19,
     "metadata": {},
     "output_type": "execute_result"
    }
   ],
   "source": [
    "visa_dataset['continent'].value_counts().to_list()"
   ]
  },
  {
   "cell_type": "code",
   "execution_count": 20,
   "id": "a8dcf7c6",
   "metadata": {},
   "outputs": [
    {
     "data": {
      "text/plain": [
       "numpy.ndarray"
      ]
     },
     "execution_count": 20,
     "metadata": {},
     "output_type": "execute_result"
    }
   ],
   "source": [
    "type(visa_dataset['continent'].values)"
   ]
  },
  {
   "cell_type": "code",
   "execution_count": 21,
   "id": "f8c1809b",
   "metadata": {
    "scrolled": true
   },
   "outputs": [
    {
     "data": {
      "text/plain": [
       "['Asia',\n",
       " 'Asia',\n",
       " 'Asia',\n",
       " 'Asia',\n",
       " 'Africa',\n",
       " 'Asia',\n",
       " 'Asia',\n",
       " 'North America',\n",
       " 'Asia',\n",
       " 'Europe',\n",
       " 'Asia',\n",
       " 'Asia',\n",
       " 'Asia',\n",
       " 'Asia',\n",
       " 'Asia',\n",
       " 'Asia',\n",
       " 'Europe',\n",
       " 'Asia',\n",
       " 'Africa',\n",
       " 'Asia',\n",
       " 'Asia',\n",
       " 'North America',\n",
       " 'Asia',\n",
       " 'North America',\n",
       " 'Europe',\n",
       " 'North America',\n",
       " 'Asia',\n",
       " 'Asia',\n",
       " 'Asia',\n",
       " 'Asia',\n",
       " 'Asia',\n",
       " 'Asia',\n",
       " 'Asia',\n",
       " 'Asia',\n",
       " 'Asia',\n",
       " 'Asia',\n",
       " 'Europe',\n",
       " 'Europe',\n",
       " 'Asia',\n",
       " 'Asia',\n",
       " 'Asia',\n",
       " 'Asia',\n",
       " 'Europe',\n",
       " 'North America',\n",
       " 'Asia',\n",
       " 'Europe',\n",
       " 'Asia',\n",
       " 'Asia',\n",
       " 'Asia',\n",
       " 'Asia',\n",
       " 'Asia',\n",
       " 'Asia',\n",
       " 'Asia',\n",
       " 'Asia',\n",
       " 'Asia',\n",
       " 'Asia',\n",
       " 'Europe',\n",
       " 'Asia',\n",
       " 'Europe',\n",
       " 'Asia',\n",
       " 'Asia',\n",
       " 'Europe',\n",
       " 'Asia',\n",
       " 'Europe',\n",
       " 'Asia',\n",
       " 'Asia',\n",
       " 'North America',\n",
       " 'Europe',\n",
       " 'Asia',\n",
       " 'Asia',\n",
       " 'Asia',\n",
       " 'Asia',\n",
       " 'Europe',\n",
       " 'Asia',\n",
       " 'Africa',\n",
       " 'North America',\n",
       " 'Europe',\n",
       " 'Asia',\n",
       " 'North America',\n",
       " 'Asia',\n",
       " 'Asia',\n",
       " 'Asia',\n",
       " 'Asia',\n",
       " 'Asia',\n",
       " 'Asia',\n",
       " 'Asia',\n",
       " 'Asia',\n",
       " 'Asia',\n",
       " 'Asia',\n",
       " 'Asia',\n",
       " 'Asia',\n",
       " 'North America',\n",
       " 'Asia',\n",
       " 'Asia',\n",
       " 'North America',\n",
       " 'Asia',\n",
       " 'North America',\n",
       " 'North America',\n",
       " 'Asia',\n",
       " 'Asia',\n",
       " 'Asia',\n",
       " 'Asia',\n",
       " 'Asia',\n",
       " 'Asia',\n",
       " 'Asia',\n",
       " 'North America',\n",
       " 'Asia',\n",
       " 'Asia',\n",
       " 'Asia',\n",
       " 'Asia',\n",
       " 'North America',\n",
       " 'Asia',\n",
       " 'Asia',\n",
       " 'North America',\n",
       " 'Asia',\n",
       " 'Asia',\n",
       " 'Asia',\n",
       " 'North America',\n",
       " 'Asia',\n",
       " 'Asia',\n",
       " 'North America',\n",
       " 'South America',\n",
       " 'Asia',\n",
       " 'North America',\n",
       " 'Asia',\n",
       " 'North America',\n",
       " 'Asia',\n",
       " 'North America',\n",
       " 'Asia',\n",
       " 'Asia',\n",
       " 'South America',\n",
       " 'Asia',\n",
       " 'Asia',\n",
       " 'Asia',\n",
       " 'Asia',\n",
       " 'Asia',\n",
       " 'Asia',\n",
       " 'Asia',\n",
       " 'Asia',\n",
       " 'Asia',\n",
       " 'Asia',\n",
       " 'Asia',\n",
       " 'Asia',\n",
       " 'Asia',\n",
       " 'Asia',\n",
       " 'Europe',\n",
       " 'Europe',\n",
       " 'Asia',\n",
       " 'Asia',\n",
       " 'Asia',\n",
       " 'Asia',\n",
       " 'Europe',\n",
       " 'Asia',\n",
       " 'Asia',\n",
       " 'Europe',\n",
       " 'Asia',\n",
       " 'Asia',\n",
       " 'Asia',\n",
       " 'North America',\n",
       " 'Asia',\n",
       " 'Europe',\n",
       " 'Europe',\n",
       " 'North America',\n",
       " 'Asia',\n",
       " 'Asia',\n",
       " 'Asia',\n",
       " 'Asia',\n",
       " 'Asia',\n",
       " 'Asia',\n",
       " 'Asia',\n",
       " 'Europe',\n",
       " 'South America',\n",
       " 'Asia',\n",
       " 'Asia',\n",
       " 'Europe',\n",
       " 'Asia',\n",
       " 'North America',\n",
       " 'Asia',\n",
       " 'Asia',\n",
       " 'Asia',\n",
       " 'Europe',\n",
       " 'Europe',\n",
       " 'Europe',\n",
       " 'Asia',\n",
       " 'Asia',\n",
       " 'Asia',\n",
       " 'Asia',\n",
       " 'Europe',\n",
       " 'South America',\n",
       " 'Europe',\n",
       " 'Asia',\n",
       " 'Asia',\n",
       " 'North America',\n",
       " 'Asia',\n",
       " 'Africa',\n",
       " 'Asia',\n",
       " 'Europe',\n",
       " 'Europe',\n",
       " 'Asia',\n",
       " 'Europe',\n",
       " 'Asia',\n",
       " 'Asia',\n",
       " 'Asia',\n",
       " 'Asia',\n",
       " 'Asia',\n",
       " 'Asia',\n",
       " 'Europe',\n",
       " 'Asia',\n",
       " 'North America',\n",
       " 'Asia',\n",
       " 'Asia',\n",
       " 'Asia',\n",
       " 'Asia',\n",
       " 'North America',\n",
       " 'Asia',\n",
       " 'Europe',\n",
       " 'Asia',\n",
       " 'North America',\n",
       " 'Europe',\n",
       " 'Europe',\n",
       " 'Asia',\n",
       " 'North America',\n",
       " 'Europe',\n",
       " 'Europe',\n",
       " 'South America',\n",
       " 'Asia',\n",
       " 'North America',\n",
       " 'Asia',\n",
       " 'Asia',\n",
       " 'Asia',\n",
       " 'North America',\n",
       " 'Asia',\n",
       " 'Asia',\n",
       " 'Asia',\n",
       " 'Europe',\n",
       " 'North America',\n",
       " 'Asia',\n",
       " 'North America',\n",
       " 'Asia',\n",
       " 'Europe',\n",
       " 'Europe',\n",
       " 'Oceania',\n",
       " 'Africa',\n",
       " 'North America',\n",
       " 'Europe',\n",
       " 'Europe',\n",
       " 'Europe',\n",
       " 'Europe',\n",
       " 'North America',\n",
       " 'Asia',\n",
       " 'Asia',\n",
       " 'Europe',\n",
       " 'Asia',\n",
       " 'Europe',\n",
       " 'Asia',\n",
       " 'Europe',\n",
       " 'Asia',\n",
       " 'Asia',\n",
       " 'Asia',\n",
       " 'Asia',\n",
       " 'Asia',\n",
       " 'Asia',\n",
       " 'Asia',\n",
       " 'Asia',\n",
       " 'Asia',\n",
       " 'South America',\n",
       " 'Asia',\n",
       " 'North America',\n",
       " 'Asia',\n",
       " 'Asia',\n",
       " 'Asia',\n",
       " 'North America',\n",
       " 'Asia',\n",
       " 'Africa',\n",
       " 'Asia',\n",
       " 'Asia',\n",
       " 'Asia',\n",
       " 'Asia',\n",
       " 'Asia',\n",
       " 'Asia',\n",
       " 'Asia',\n",
       " 'Asia',\n",
       " 'Europe',\n",
       " 'North America',\n",
       " 'Asia',\n",
       " 'North America',\n",
       " 'Europe',\n",
       " 'Europe',\n",
       " 'Oceania',\n",
       " 'Asia',\n",
       " 'Asia',\n",
       " 'North America',\n",
       " 'Asia',\n",
       " 'Asia',\n",
       " 'Asia',\n",
       " 'Asia',\n",
       " 'Europe',\n",
       " 'Asia',\n",
       " 'Asia',\n",
       " 'Asia',\n",
       " 'Asia',\n",
       " 'Asia',\n",
       " 'North America',\n",
       " 'Asia',\n",
       " 'Asia',\n",
       " 'North America',\n",
       " 'Asia',\n",
       " 'North America',\n",
       " 'Asia',\n",
       " 'Asia',\n",
       " 'Asia',\n",
       " 'Europe',\n",
       " 'Asia',\n",
       " 'Asia',\n",
       " 'Asia',\n",
       " 'Asia',\n",
       " 'North America',\n",
       " 'South America',\n",
       " 'Asia',\n",
       " 'North America',\n",
       " 'South America',\n",
       " 'Asia',\n",
       " 'Asia',\n",
       " 'Asia',\n",
       " 'Europe',\n",
       " 'North America',\n",
       " 'Asia',\n",
       " 'Europe',\n",
       " 'Asia',\n",
       " 'Asia',\n",
       " 'Asia',\n",
       " 'Europe',\n",
       " 'South America',\n",
       " 'Europe',\n",
       " 'Asia',\n",
       " 'Asia',\n",
       " 'Europe',\n",
       " 'North America',\n",
       " 'Asia',\n",
       " 'Asia',\n",
       " 'Europe',\n",
       " 'Asia',\n",
       " 'North America',\n",
       " 'Asia',\n",
       " 'Asia',\n",
       " 'Asia',\n",
       " 'Asia',\n",
       " 'Asia',\n",
       " 'Asia',\n",
       " 'Asia',\n",
       " 'Asia',\n",
       " 'Asia',\n",
       " 'Asia',\n",
       " 'Asia',\n",
       " 'Asia',\n",
       " 'Asia',\n",
       " 'South America',\n",
       " 'North America',\n",
       " 'Asia',\n",
       " 'Asia',\n",
       " 'Asia',\n",
       " 'Asia',\n",
       " 'South America',\n",
       " 'Asia',\n",
       " 'North America',\n",
       " 'Asia',\n",
       " 'Asia',\n",
       " 'Europe',\n",
       " 'Asia',\n",
       " 'Asia',\n",
       " 'North America',\n",
       " 'Asia',\n",
       " 'Asia',\n",
       " 'Asia',\n",
       " 'Asia',\n",
       " 'North America',\n",
       " 'Asia',\n",
       " 'Asia',\n",
       " 'Asia',\n",
       " 'Asia',\n",
       " 'Asia',\n",
       " 'Asia',\n",
       " 'Asia',\n",
       " 'Asia',\n",
       " 'Asia',\n",
       " 'Europe',\n",
       " 'Asia',\n",
       " 'Africa',\n",
       " 'North America',\n",
       " 'North America',\n",
       " 'South America',\n",
       " 'Europe',\n",
       " 'Asia',\n",
       " 'Europe',\n",
       " 'Asia',\n",
       " 'North America',\n",
       " 'North America',\n",
       " 'Europe',\n",
       " 'Asia',\n",
       " 'Asia',\n",
       " 'Europe',\n",
       " 'Asia',\n",
       " 'Asia',\n",
       " 'Asia',\n",
       " 'Asia',\n",
       " 'North America',\n",
       " 'North America',\n",
       " 'Asia',\n",
       " 'Asia',\n",
       " 'Asia',\n",
       " 'Asia',\n",
       " 'Europe',\n",
       " 'Asia',\n",
       " 'North America',\n",
       " 'Europe',\n",
       " 'North America',\n",
       " 'Asia',\n",
       " 'Asia',\n",
       " 'Asia',\n",
       " 'Asia',\n",
       " 'Asia',\n",
       " 'South America',\n",
       " 'North America',\n",
       " 'Europe',\n",
       " 'Asia',\n",
       " 'North America',\n",
       " 'Asia',\n",
       " 'Asia',\n",
       " 'Asia',\n",
       " 'Asia',\n",
       " 'Asia',\n",
       " 'Asia',\n",
       " 'Asia',\n",
       " 'Asia',\n",
       " 'Asia',\n",
       " 'Asia',\n",
       " 'Asia',\n",
       " 'Asia',\n",
       " 'Asia',\n",
       " 'Asia',\n",
       " 'Asia',\n",
       " 'Asia',\n",
       " 'Asia',\n",
       " 'North America',\n",
       " 'Asia',\n",
       " 'Asia',\n",
       " 'South America',\n",
       " 'Africa',\n",
       " 'Asia',\n",
       " 'North America',\n",
       " 'Asia',\n",
       " 'Asia',\n",
       " 'Asia',\n",
       " 'Asia',\n",
       " 'North America',\n",
       " 'Asia',\n",
       " 'Europe',\n",
       " 'Asia',\n",
       " 'Asia',\n",
       " 'North America',\n",
       " 'Asia',\n",
       " 'North America',\n",
       " 'Asia',\n",
       " 'Asia',\n",
       " 'Asia',\n",
       " 'Asia',\n",
       " 'Asia',\n",
       " 'Asia',\n",
       " 'Europe',\n",
       " 'North America',\n",
       " 'Asia',\n",
       " 'Asia',\n",
       " 'Asia',\n",
       " 'North America',\n",
       " 'Asia',\n",
       " 'North America',\n",
       " 'North America',\n",
       " 'Europe',\n",
       " 'Asia',\n",
       " 'Asia',\n",
       " 'Africa',\n",
       " 'Africa',\n",
       " 'North America',\n",
       " 'North America',\n",
       " 'Asia',\n",
       " 'Asia',\n",
       " 'Asia',\n",
       " 'Asia',\n",
       " 'North America',\n",
       " 'North America',\n",
       " 'Asia',\n",
       " 'Asia',\n",
       " 'Asia',\n",
       " 'Asia',\n",
       " 'South America',\n",
       " 'Asia',\n",
       " 'North America',\n",
       " 'North America',\n",
       " 'Asia',\n",
       " 'Asia',\n",
       " 'Asia',\n",
       " 'Asia',\n",
       " 'North America',\n",
       " 'Europe',\n",
       " 'Europe',\n",
       " 'Asia',\n",
       " 'Europe',\n",
       " 'North America',\n",
       " 'Asia',\n",
       " 'Asia',\n",
       " 'Africa',\n",
       " 'Europe',\n",
       " 'Asia',\n",
       " 'Asia',\n",
       " 'Asia',\n",
       " 'Asia',\n",
       " 'Asia',\n",
       " 'Asia',\n",
       " 'Asia',\n",
       " 'Asia',\n",
       " 'Asia',\n",
       " 'Asia',\n",
       " 'Asia',\n",
       " 'Asia',\n",
       " 'Asia',\n",
       " 'North America',\n",
       " 'North America',\n",
       " 'Asia',\n",
       " 'Asia',\n",
       " 'North America',\n",
       " 'Asia',\n",
       " 'Europe',\n",
       " 'Asia',\n",
       " 'North America',\n",
       " 'Asia',\n",
       " 'Asia',\n",
       " 'Europe',\n",
       " 'Asia',\n",
       " 'Asia',\n",
       " 'Europe',\n",
       " 'Africa',\n",
       " 'Africa',\n",
       " 'Asia',\n",
       " 'Europe',\n",
       " 'Asia',\n",
       " 'Asia',\n",
       " 'Asia',\n",
       " 'Asia',\n",
       " 'South America',\n",
       " 'Asia',\n",
       " 'Asia',\n",
       " 'Asia',\n",
       " 'North America',\n",
       " 'North America',\n",
       " 'Asia',\n",
       " 'Asia',\n",
       " 'Asia',\n",
       " 'Asia',\n",
       " 'Asia',\n",
       " 'Asia',\n",
       " 'Asia',\n",
       " 'Asia',\n",
       " 'Europe',\n",
       " 'North America',\n",
       " 'Europe',\n",
       " 'Asia',\n",
       " 'Asia',\n",
       " 'Asia',\n",
       " 'Asia',\n",
       " 'Asia',\n",
       " 'Asia',\n",
       " 'Asia',\n",
       " 'Asia',\n",
       " 'Asia',\n",
       " 'Asia',\n",
       " 'Asia',\n",
       " 'Asia',\n",
       " 'North America',\n",
       " 'Asia',\n",
       " 'North America',\n",
       " 'Asia',\n",
       " 'North America',\n",
       " 'Asia',\n",
       " 'North America',\n",
       " 'Asia',\n",
       " 'Asia',\n",
       " 'Asia',\n",
       " 'Asia',\n",
       " 'Asia',\n",
       " 'North America',\n",
       " 'Asia',\n",
       " 'Europe',\n",
       " 'Asia',\n",
       " 'Asia',\n",
       " 'Asia',\n",
       " 'North America',\n",
       " 'Asia',\n",
       " 'Asia',\n",
       " 'South America',\n",
       " 'Asia',\n",
       " 'Asia',\n",
       " 'North America',\n",
       " 'South America',\n",
       " 'Asia',\n",
       " 'Asia',\n",
       " 'Asia',\n",
       " 'Asia',\n",
       " 'Asia',\n",
       " 'North America',\n",
       " 'Asia',\n",
       " 'Asia',\n",
       " 'Asia',\n",
       " 'Asia',\n",
       " 'Asia',\n",
       " 'Asia',\n",
       " 'Asia',\n",
       " 'Asia',\n",
       " 'Asia',\n",
       " 'Africa',\n",
       " 'Asia',\n",
       " 'Africa',\n",
       " 'Asia',\n",
       " 'Asia',\n",
       " 'Europe',\n",
       " 'Europe',\n",
       " 'Europe',\n",
       " 'Europe',\n",
       " 'Asia',\n",
       " 'Europe',\n",
       " 'Europe',\n",
       " 'Asia',\n",
       " 'Asia',\n",
       " 'Asia',\n",
       " 'Asia',\n",
       " 'Asia',\n",
       " 'Asia',\n",
       " 'Asia',\n",
       " 'Europe',\n",
       " 'Europe',\n",
       " 'Asia',\n",
       " 'South America',\n",
       " 'Asia',\n",
       " 'Asia',\n",
       " 'Asia',\n",
       " 'North America',\n",
       " 'Asia',\n",
       " 'Asia',\n",
       " 'Asia',\n",
       " 'Asia',\n",
       " 'Africa',\n",
       " 'Asia',\n",
       " 'Asia',\n",
       " 'North America',\n",
       " 'Asia',\n",
       " 'Europe',\n",
       " 'Asia',\n",
       " 'North America',\n",
       " 'North America',\n",
       " 'Asia',\n",
       " 'Asia',\n",
       " 'Africa',\n",
       " 'Asia',\n",
       " 'Asia',\n",
       " 'Asia',\n",
       " 'Europe',\n",
       " 'North America',\n",
       " 'Asia',\n",
       " 'Asia',\n",
       " 'Asia',\n",
       " 'Asia',\n",
       " 'Asia',\n",
       " 'Asia',\n",
       " 'Asia',\n",
       " 'Asia',\n",
       " 'Asia',\n",
       " 'Asia',\n",
       " 'Asia',\n",
       " 'Europe',\n",
       " 'Asia',\n",
       " 'Asia',\n",
       " 'Europe',\n",
       " 'Asia',\n",
       " 'Asia',\n",
       " 'Europe',\n",
       " 'Asia',\n",
       " 'Asia',\n",
       " 'Asia',\n",
       " 'North America',\n",
       " 'Asia',\n",
       " 'Asia',\n",
       " 'Asia',\n",
       " 'Asia',\n",
       " 'Asia',\n",
       " 'Asia',\n",
       " 'North America',\n",
       " 'Europe',\n",
       " 'North America',\n",
       " 'Africa',\n",
       " 'Asia',\n",
       " 'Asia',\n",
       " 'Asia',\n",
       " 'Asia',\n",
       " 'Asia',\n",
       " 'Asia',\n",
       " 'North America',\n",
       " 'Asia',\n",
       " 'Asia',\n",
       " 'North America',\n",
       " 'Oceania',\n",
       " 'Europe',\n",
       " 'Europe',\n",
       " 'Asia',\n",
       " 'Europe',\n",
       " 'Asia',\n",
       " 'Asia',\n",
       " 'Asia',\n",
       " 'South America',\n",
       " 'North America',\n",
       " 'Europe',\n",
       " 'Asia',\n",
       " 'North America',\n",
       " 'Asia',\n",
       " 'North America',\n",
       " 'North America',\n",
       " 'North America',\n",
       " 'North America',\n",
       " 'Asia',\n",
       " 'Asia',\n",
       " 'Asia',\n",
       " 'Africa',\n",
       " 'Asia',\n",
       " 'Asia',\n",
       " 'Asia',\n",
       " 'Asia',\n",
       " 'Asia',\n",
       " 'Africa',\n",
       " 'Asia',\n",
       " 'Asia',\n",
       " 'North America',\n",
       " 'Asia',\n",
       " 'South America',\n",
       " 'Asia',\n",
       " 'Europe',\n",
       " 'Europe',\n",
       " 'North America',\n",
       " 'Asia',\n",
       " 'Asia',\n",
       " 'Europe',\n",
       " 'South America',\n",
       " 'Asia',\n",
       " 'Asia',\n",
       " 'Asia',\n",
       " 'Asia',\n",
       " 'Asia',\n",
       " 'Asia',\n",
       " 'Asia',\n",
       " 'Asia',\n",
       " 'Asia',\n",
       " 'Europe',\n",
       " 'Europe',\n",
       " 'Europe',\n",
       " 'Asia',\n",
       " 'North America',\n",
       " 'Asia',\n",
       " 'Asia',\n",
       " 'Asia',\n",
       " 'Asia',\n",
       " 'Asia',\n",
       " 'Asia',\n",
       " 'Europe',\n",
       " 'Europe',\n",
       " 'North America',\n",
       " 'Asia',\n",
       " 'Europe',\n",
       " 'Asia',\n",
       " 'Asia',\n",
       " 'Asia',\n",
       " 'Asia',\n",
       " 'South America',\n",
       " 'Asia',\n",
       " 'Asia',\n",
       " 'Europe',\n",
       " 'Europe',\n",
       " 'Asia',\n",
       " 'Africa',\n",
       " 'Europe',\n",
       " 'Asia',\n",
       " 'North America',\n",
       " 'Asia',\n",
       " 'Asia',\n",
       " 'Asia',\n",
       " 'Asia',\n",
       " 'North America',\n",
       " 'Asia',\n",
       " 'Europe',\n",
       " 'Asia',\n",
       " 'Asia',\n",
       " 'North America',\n",
       " 'Asia',\n",
       " 'Asia',\n",
       " 'Europe',\n",
       " 'Asia',\n",
       " 'Asia',\n",
       " 'Europe',\n",
       " 'South America',\n",
       " 'Asia',\n",
       " 'Asia',\n",
       " 'Asia',\n",
       " 'Asia',\n",
       " 'Europe',\n",
       " 'Asia',\n",
       " 'Asia',\n",
       " 'Asia',\n",
       " 'Asia',\n",
       " 'North America',\n",
       " 'Europe',\n",
       " 'Asia',\n",
       " 'North America',\n",
       " 'Asia',\n",
       " 'Europe',\n",
       " 'South America',\n",
       " 'Asia',\n",
       " 'Europe',\n",
       " 'Asia',\n",
       " 'Europe',\n",
       " 'Asia',\n",
       " 'South America',\n",
       " 'Europe',\n",
       " 'Asia',\n",
       " 'North America',\n",
       " 'North America',\n",
       " 'Asia',\n",
       " 'South America',\n",
       " 'Asia',\n",
       " 'Asia',\n",
       " 'Asia',\n",
       " 'Asia',\n",
       " 'Europe',\n",
       " 'Africa',\n",
       " 'Asia',\n",
       " 'Asia',\n",
       " 'Asia',\n",
       " 'Europe',\n",
       " 'Asia',\n",
       " 'Asia',\n",
       " 'Asia',\n",
       " 'Asia',\n",
       " 'North America',\n",
       " 'Asia',\n",
       " 'Africa',\n",
       " 'Asia',\n",
       " 'Europe',\n",
       " 'Asia',\n",
       " 'Asia',\n",
       " 'North America',\n",
       " 'Asia',\n",
       " 'Europe',\n",
       " 'Asia',\n",
       " 'Asia',\n",
       " 'Asia',\n",
       " 'Europe',\n",
       " 'North America',\n",
       " 'North America',\n",
       " 'Asia',\n",
       " 'North America',\n",
       " 'Asia',\n",
       " 'Asia',\n",
       " 'Asia',\n",
       " 'Asia',\n",
       " 'North America',\n",
       " 'Asia',\n",
       " 'Asia',\n",
       " 'Asia',\n",
       " 'North America',\n",
       " 'Asia',\n",
       " 'Asia',\n",
       " 'South America',\n",
       " 'Asia',\n",
       " 'Asia',\n",
       " 'Asia',\n",
       " 'Asia',\n",
       " 'Asia',\n",
       " 'North America',\n",
       " 'Asia',\n",
       " 'Asia',\n",
       " 'South America',\n",
       " 'North America',\n",
       " 'Asia',\n",
       " 'Europe',\n",
       " 'Europe',\n",
       " 'Asia',\n",
       " 'Asia',\n",
       " 'North America',\n",
       " 'Asia',\n",
       " 'Europe',\n",
       " 'Africa',\n",
       " 'Asia',\n",
       " 'Asia',\n",
       " 'Africa',\n",
       " 'Asia',\n",
       " 'Asia',\n",
       " 'Asia',\n",
       " 'Asia',\n",
       " 'Asia',\n",
       " 'Asia',\n",
       " 'North America',\n",
       " 'Asia',\n",
       " 'Asia',\n",
       " 'Africa',\n",
       " 'Asia',\n",
       " 'Asia',\n",
       " 'Asia',\n",
       " 'Asia',\n",
       " 'Asia',\n",
       " 'Asia',\n",
       " 'Asia',\n",
       " 'South America',\n",
       " 'Europe',\n",
       " 'Asia',\n",
       " 'Asia',\n",
       " 'Asia',\n",
       " 'Asia',\n",
       " 'Europe',\n",
       " 'Asia',\n",
       " 'Asia',\n",
       " 'Asia',\n",
       " 'Asia',\n",
       " 'North America',\n",
       " 'North America',\n",
       " 'Asia',\n",
       " 'Asia',\n",
       " 'Asia',\n",
       " 'Asia',\n",
       " 'Asia',\n",
       " 'Asia',\n",
       " 'Asia',\n",
       " 'Asia',\n",
       " 'Asia',\n",
       " 'Asia',\n",
       " 'Asia',\n",
       " 'Asia',\n",
       " 'North America',\n",
       " 'North America',\n",
       " 'Europe',\n",
       " 'Asia',\n",
       " 'Europe',\n",
       " 'Asia',\n",
       " 'North America',\n",
       " 'Asia',\n",
       " 'Europe',\n",
       " 'Europe',\n",
       " 'Asia',\n",
       " 'Asia',\n",
       " 'Europe',\n",
       " 'Asia',\n",
       " 'Oceania',\n",
       " 'Asia',\n",
       " 'Asia',\n",
       " 'Asia',\n",
       " 'Asia',\n",
       " 'Oceania',\n",
       " 'Asia',\n",
       " 'Europe',\n",
       " 'Asia',\n",
       " 'North America',\n",
       " 'Asia',\n",
       " 'Europe',\n",
       " 'Europe',\n",
       " 'Africa',\n",
       " 'Asia',\n",
       " 'Asia',\n",
       " 'North America',\n",
       " 'Asia',\n",
       " 'Asia',\n",
       " 'Asia',\n",
       " 'Asia',\n",
       " 'Asia',\n",
       " 'Asia',\n",
       " 'Asia',\n",
       " 'Asia',\n",
       " 'Asia',\n",
       " 'Asia',\n",
       " 'Asia',\n",
       " 'Asia',\n",
       " 'Asia',\n",
       " 'Europe',\n",
       " 'Asia',\n",
       " 'Asia',\n",
       " 'North America',\n",
       " 'Europe',\n",
       " 'North America',\n",
       " 'Asia',\n",
       " 'Asia',\n",
       " 'South America',\n",
       " 'Asia',\n",
       " 'Asia',\n",
       " 'North America',\n",
       " 'Asia',\n",
       " 'Asia',\n",
       " 'Europe',\n",
       " ...]"
      ]
     },
     "execution_count": 21,
     "metadata": {},
     "output_type": "execute_result"
    }
   ],
   "source": [
    "list(visa_dataset['continent'].values)"
   ]
  },
  {
   "cell_type": "code",
   "execution_count": 22,
   "id": "645df09b",
   "metadata": {},
   "outputs": [],
   "source": [
    "continent_values=visa_dataset['continent'].value_counts()"
   ]
  },
  {
   "cell_type": "code",
   "execution_count": 24,
   "id": "026e53e0",
   "metadata": {},
   "outputs": [
    {
     "data": {
      "text/plain": [
       "Asia             16861\n",
       "Europe            3732\n",
       "North America     3292\n",
       "South America      852\n",
       "Africa             551\n",
       "Oceania            192\n",
       "Name: continent, dtype: int64"
      ]
     },
     "execution_count": 24,
     "metadata": {},
     "output_type": "execute_result"
    }
   ],
   "source": [
    "continent_values"
   ]
  },
  {
   "cell_type": "code",
   "execution_count": 26,
   "id": "539807d4",
   "metadata": {},
   "outputs": [
    {
     "data": {
      "text/plain": [
       "{'Asia': 16861,\n",
       " 'Europe': 3732,\n",
       " 'North America': 3292,\n",
       " 'South America': 852,\n",
       " 'Africa': 551,\n",
       " 'Oceania': 192}"
      ]
     },
     "execution_count": 26,
     "metadata": {},
     "output_type": "execute_result"
    }
   ],
   "source": [
    "continent_values_dict=dict(continent_values)\n",
    "continent_values_dict"
   ]
  },
  {
   "cell_type": "code",
   "execution_count": 27,
   "id": "a2fbd4b1",
   "metadata": {},
   "outputs": [
    {
     "data": {
      "text/plain": [
       "dict_keys(['Asia', 'Europe', 'North America', 'South America', 'Africa', 'Oceania'])"
      ]
     },
     "execution_count": 27,
     "metadata": {},
     "output_type": "execute_result"
    }
   ],
   "source": [
    "continent_values_dict.keys()"
   ]
  },
  {
   "cell_type": "code",
   "execution_count": 28,
   "id": "e03d54f2",
   "metadata": {},
   "outputs": [
    {
     "data": {
      "text/plain": [
       "dict_keys"
      ]
     },
     "execution_count": 28,
     "metadata": {},
     "output_type": "execute_result"
    }
   ],
   "source": [
    "type(continent_values_dict.keys())"
   ]
  },
  {
   "cell_type": "code",
   "execution_count": 29,
   "id": "fd7f8a20",
   "metadata": {},
   "outputs": [],
   "source": [
    "continent_keys=list(continent_values_dict.keys())"
   ]
  },
  {
   "cell_type": "code",
   "execution_count": 30,
   "id": "c3016708",
   "metadata": {},
   "outputs": [
    {
     "data": {
      "text/plain": [
       "['Asia', 'Europe', 'North America', 'South America', 'Africa', 'Oceania']"
      ]
     },
     "execution_count": 30,
     "metadata": {},
     "output_type": "execute_result"
    }
   ],
   "source": [
    "continent_keys"
   ]
  },
  {
   "cell_type": "code",
   "execution_count": 31,
   "id": "bb38d170",
   "metadata": {},
   "outputs": [
    {
     "data": {
      "text/plain": [
       "list"
      ]
     },
     "execution_count": 31,
     "metadata": {},
     "output_type": "execute_result"
    }
   ],
   "source": [
    "type(continent_keys)"
   ]
  },
  {
   "cell_type": "code",
   "execution_count": 32,
   "id": "d6041a7d",
   "metadata": {},
   "outputs": [
    {
     "data": {
      "text/plain": [
       "dict_values([16861, 3732, 3292, 852, 551, 192])"
      ]
     },
     "execution_count": 32,
     "metadata": {},
     "output_type": "execute_result"
    }
   ],
   "source": [
    "continent_values_dict.values()"
   ]
  },
  {
   "cell_type": "code",
   "execution_count": 33,
   "id": "e3067d59",
   "metadata": {},
   "outputs": [
    {
     "data": {
      "text/plain": [
       "[16861, 3732, 3292, 852, 551, 192]"
      ]
     },
     "execution_count": 33,
     "metadata": {},
     "output_type": "execute_result"
    }
   ],
   "source": [
    "continent_values=list(continent_values_dict.values())\n",
    "continent_values"
   ]
  },
  {
   "cell_type": "code",
   "execution_count": 61,
   "id": "27bcdde6",
   "metadata": {},
   "outputs": [
    {
     "data": {
      "text/html": [
       "<div>\n",
       "<style scoped>\n",
       "    .dataframe tbody tr th:only-of-type {\n",
       "        vertical-align: middle;\n",
       "    }\n",
       "\n",
       "    .dataframe tbody tr th {\n",
       "        vertical-align: top;\n",
       "    }\n",
       "\n",
       "    .dataframe thead th {\n",
       "        text-align: right;\n",
       "    }\n",
       "</style>\n",
       "<table border=\"1\" class=\"dataframe\">\n",
       "  <thead>\n",
       "    <tr style=\"text-align: right;\">\n",
       "      <th></th>\n",
       "      <th>Continent</th>\n",
       "      <th>Count</th>\n",
       "    </tr>\n",
       "  </thead>\n",
       "  <tbody>\n",
       "    <tr>\n",
       "      <th>0</th>\n",
       "      <td>Asia</td>\n",
       "      <td>16861</td>\n",
       "    </tr>\n",
       "    <tr>\n",
       "      <th>1</th>\n",
       "      <td>Europe</td>\n",
       "      <td>3732</td>\n",
       "    </tr>\n",
       "    <tr>\n",
       "      <th>2</th>\n",
       "      <td>North America</td>\n",
       "      <td>3292</td>\n",
       "    </tr>\n",
       "    <tr>\n",
       "      <th>3</th>\n",
       "      <td>South America</td>\n",
       "      <td>852</td>\n",
       "    </tr>\n",
       "    <tr>\n",
       "      <th>4</th>\n",
       "      <td>Africa</td>\n",
       "      <td>551</td>\n",
       "    </tr>\n",
       "    <tr>\n",
       "      <th>5</th>\n",
       "      <td>Oceania</td>\n",
       "      <td>192</td>\n",
       "    </tr>\n",
       "  </tbody>\n",
       "</table>\n",
       "</div>"
      ],
      "text/plain": [
       "       Continent  Count\n",
       "0           Asia  16861\n",
       "1         Europe   3732\n",
       "2  North America   3292\n",
       "3  South America    852\n",
       "4         Africa    551\n",
       "5        Oceania    192"
      ]
     },
     "execution_count": 61,
     "metadata": {},
     "output_type": "execute_result"
    }
   ],
   "source": [
    "continent_df=pd.DataFrame(zip(continent_keys,continent_values),\n",
    "                          columns=['Continent','Count'])\n",
    "\n",
    "continent_df"
   ]
  },
  {
   "cell_type": "code",
   "execution_count": 35,
   "id": "95ebedd9",
   "metadata": {},
   "outputs": [
    {
     "data": {
      "text/plain": [
       "pandas.core.frame.DataFrame"
      ]
     },
     "execution_count": 35,
     "metadata": {},
     "output_type": "execute_result"
    }
   ],
   "source": [
    "type(continent_df)"
   ]
  },
  {
   "cell_type": "code",
   "execution_count": 59,
   "id": "0c39dadd",
   "metadata": {},
   "outputs": [],
   "source": [
    "continent_df.to_csv('C:\\\\Users\\\\hp\\\\Data Science and AI\\\\Naresh IT\\\\Statistics_PART_1\\\\Sessions\\\\Session_3_Numerical_Analysis\\\\Continent_info.csv',index=False)"
   ]
  },
  {
   "cell_type": "code",
   "execution_count": 49,
   "id": "306f590f",
   "metadata": {},
   "outputs": [],
   "source": [
    "continent_df.reset_index(drop=True,inplace=True)"
   ]
  },
  {
   "cell_type": "code",
   "execution_count": 50,
   "id": "5f677d9f",
   "metadata": {},
   "outputs": [
    {
     "data": {
      "text/html": [
       "<div>\n",
       "<style scoped>\n",
       "    .dataframe tbody tr th:only-of-type {\n",
       "        vertical-align: middle;\n",
       "    }\n",
       "\n",
       "    .dataframe tbody tr th {\n",
       "        vertical-align: top;\n",
       "    }\n",
       "\n",
       "    .dataframe thead th {\n",
       "        text-align: right;\n",
       "    }\n",
       "</style>\n",
       "<table border=\"1\" class=\"dataframe\">\n",
       "  <thead>\n",
       "    <tr style=\"text-align: right;\">\n",
       "      <th></th>\n",
       "      <th>Continent</th>\n",
       "      <th>Count</th>\n",
       "    </tr>\n",
       "  </thead>\n",
       "  <tbody>\n",
       "    <tr>\n",
       "      <th>0</th>\n",
       "      <td>Asia</td>\n",
       "      <td>16861</td>\n",
       "    </tr>\n",
       "    <tr>\n",
       "      <th>1</th>\n",
       "      <td>Europe</td>\n",
       "      <td>3732</td>\n",
       "    </tr>\n",
       "    <tr>\n",
       "      <th>2</th>\n",
       "      <td>North America</td>\n",
       "      <td>3292</td>\n",
       "    </tr>\n",
       "    <tr>\n",
       "      <th>3</th>\n",
       "      <td>South America</td>\n",
       "      <td>852</td>\n",
       "    </tr>\n",
       "    <tr>\n",
       "      <th>4</th>\n",
       "      <td>Africa</td>\n",
       "      <td>551</td>\n",
       "    </tr>\n",
       "    <tr>\n",
       "      <th>5</th>\n",
       "      <td>Oceania</td>\n",
       "      <td>192</td>\n",
       "    </tr>\n",
       "  </tbody>\n",
       "</table>\n",
       "</div>"
      ],
      "text/plain": [
       "       Continent  Count\n",
       "0           Asia  16861\n",
       "1         Europe   3732\n",
       "2  North America   3292\n",
       "3  South America    852\n",
       "4         Africa    551\n",
       "5        Oceania    192"
      ]
     },
     "execution_count": 50,
     "metadata": {},
     "output_type": "execute_result"
    }
   ],
   "source": [
    "continent_df"
   ]
  },
  {
   "cell_type": "markdown",
   "id": "8715106e",
   "metadata": {},
   "source": [
    "$Steps$\n",
    "- step-1:  value counts\n",
    "    \n",
    "- step-2:  it is a series type , I can conver into dictionary\n",
    "    \n",
    "- step-3: key:value pair, extract keys and values sepeartely\n",
    "        \n",
    "- step-4: keys type is dict_keys and values type is dict_values\n",
    "    \n",
    "- step-5: apply list type cast\n",
    "    \n",
    "- step-6: create a dataframe\n",
    "    \n",
    "- step-7: save the dataframe"
   ]
  },
  {
   "cell_type": "markdown",
   "id": "6e08077e",
   "metadata": {},
   "source": [
    "$Method - 1$"
   ]
  },
  {
   "cell_type": "code",
   "execution_count": 53,
   "id": "a913e64c",
   "metadata": {},
   "outputs": [
    {
     "data": {
      "text/plain": [
       "Asia             16861\n",
       "Europe            3732\n",
       "North America     3292\n",
       "South America      852\n",
       "Africa             551\n",
       "Oceania            192\n",
       "Name: continent, dtype: int64"
      ]
     },
     "execution_count": 53,
     "metadata": {},
     "output_type": "execute_result"
    }
   ],
   "source": [
    "continent_values=visa_dataset['continent'].value_counts()\n",
    "continent_values"
   ]
  },
  {
   "cell_type": "code",
   "execution_count": 54,
   "id": "87c92536",
   "metadata": {},
   "outputs": [
    {
     "data": {
      "text/plain": [
       "{'Asia': 16861,\n",
       " 'Europe': 3732,\n",
       " 'North America': 3292,\n",
       " 'South America': 852,\n",
       " 'Africa': 551,\n",
       " 'Oceania': 192}"
      ]
     },
     "execution_count": 54,
     "metadata": {},
     "output_type": "execute_result"
    }
   ],
   "source": [
    "continent_values_dict=dict(continent_values)\n",
    "continent_values_dict"
   ]
  },
  {
   "cell_type": "code",
   "execution_count": 55,
   "id": "c345b174",
   "metadata": {},
   "outputs": [
    {
     "data": {
      "text/plain": [
       "['Asia', 'Europe', 'North America', 'South America', 'Africa', 'Oceania']"
      ]
     },
     "execution_count": 55,
     "metadata": {},
     "output_type": "execute_result"
    }
   ],
   "source": [
    "continent_keys=list(continent_values_dict.keys())\n",
    "continent_keys"
   ]
  },
  {
   "cell_type": "code",
   "execution_count": 56,
   "id": "be9c1cd4",
   "metadata": {},
   "outputs": [
    {
     "data": {
      "text/plain": [
       "[16861, 3732, 3292, 852, 551, 192]"
      ]
     },
     "execution_count": 56,
     "metadata": {},
     "output_type": "execute_result"
    }
   ],
   "source": [
    "continent_v=list(continent_values_dict.values())\n",
    "continent_v"
   ]
  },
  {
   "cell_type": "code",
   "execution_count": 57,
   "id": "0b5d28b3",
   "metadata": {},
   "outputs": [
    {
     "data": {
      "text/html": [
       "<div>\n",
       "<style scoped>\n",
       "    .dataframe tbody tr th:only-of-type {\n",
       "        vertical-align: middle;\n",
       "    }\n",
       "\n",
       "    .dataframe tbody tr th {\n",
       "        vertical-align: top;\n",
       "    }\n",
       "\n",
       "    .dataframe thead th {\n",
       "        text-align: right;\n",
       "    }\n",
       "</style>\n",
       "<table border=\"1\" class=\"dataframe\">\n",
       "  <thead>\n",
       "    <tr style=\"text-align: right;\">\n",
       "      <th></th>\n",
       "      <th>Continent</th>\n",
       "      <th>Count</th>\n",
       "    </tr>\n",
       "  </thead>\n",
       "  <tbody>\n",
       "    <tr>\n",
       "      <th>0</th>\n",
       "      <td>Asia</td>\n",
       "      <td>16861</td>\n",
       "    </tr>\n",
       "    <tr>\n",
       "      <th>1</th>\n",
       "      <td>Europe</td>\n",
       "      <td>3732</td>\n",
       "    </tr>\n",
       "    <tr>\n",
       "      <th>2</th>\n",
       "      <td>North America</td>\n",
       "      <td>3292</td>\n",
       "    </tr>\n",
       "    <tr>\n",
       "      <th>3</th>\n",
       "      <td>South America</td>\n",
       "      <td>852</td>\n",
       "    </tr>\n",
       "    <tr>\n",
       "      <th>4</th>\n",
       "      <td>Africa</td>\n",
       "      <td>551</td>\n",
       "    </tr>\n",
       "    <tr>\n",
       "      <th>5</th>\n",
       "      <td>Oceania</td>\n",
       "      <td>192</td>\n",
       "    </tr>\n",
       "  </tbody>\n",
       "</table>\n",
       "</div>"
      ],
      "text/plain": [
       "       Continent  Count\n",
       "0           Asia  16861\n",
       "1         Europe   3732\n",
       "2  North America   3292\n",
       "3  South America    852\n",
       "4         Africa    551\n",
       "5        Oceania    192"
      ]
     },
     "execution_count": 57,
     "metadata": {},
     "output_type": "execute_result"
    }
   ],
   "source": [
    "continent_df=pd.DataFrame(zip(continent_keys,continent_v),columns=['Continent','Count'])\n",
    "continent_df"
   ]
  },
  {
   "cell_type": "markdown",
   "id": "161ab870",
   "metadata": {},
   "source": [
    "$Method - 2$"
   ]
  },
  {
   "cell_type": "code",
   "execution_count": 58,
   "id": "a3adae01",
   "metadata": {},
   "outputs": [
    {
     "name": "stdout",
     "output_type": "stream",
     "text": [
      "{'Asia': 16861, 'Europe': 3732, 'North America': 3292, 'South America': 852, 'Africa': 551, 'Oceania': 192}\n"
     ]
    },
    {
     "ename": "ValueError",
     "evalue": "If using all scalar values, you must pass an index",
     "output_type": "error",
     "traceback": [
      "\u001b[1;31m---------------------------------------------------------------------------\u001b[0m",
      "\u001b[1;31mValueError\u001b[0m                                Traceback (most recent call last)",
      "Cell \u001b[1;32mIn[58], line 4\u001b[0m\n\u001b[0;32m      2\u001b[0m continet_values_dict\u001b[38;5;241m=\u001b[39m\u001b[38;5;28mdict\u001b[39m(continent_values)\n\u001b[0;32m      3\u001b[0m \u001b[38;5;28mprint\u001b[39m(continet_values_dict)\n\u001b[1;32m----> 4\u001b[0m pd\u001b[38;5;241m.\u001b[39mDataFrame(continet_values_dict)\n",
      "File \u001b[1;32m~\\anaconda3\\Lib\\site-packages\\pandas\\core\\frame.py:664\u001b[0m, in \u001b[0;36mDataFrame.__init__\u001b[1;34m(self, data, index, columns, dtype, copy)\u001b[0m\n\u001b[0;32m    658\u001b[0m     mgr \u001b[38;5;241m=\u001b[39m \u001b[38;5;28mself\u001b[39m\u001b[38;5;241m.\u001b[39m_init_mgr(\n\u001b[0;32m    659\u001b[0m         data, axes\u001b[38;5;241m=\u001b[39m{\u001b[38;5;124m\"\u001b[39m\u001b[38;5;124mindex\u001b[39m\u001b[38;5;124m\"\u001b[39m: index, \u001b[38;5;124m\"\u001b[39m\u001b[38;5;124mcolumns\u001b[39m\u001b[38;5;124m\"\u001b[39m: columns}, dtype\u001b[38;5;241m=\u001b[39mdtype, copy\u001b[38;5;241m=\u001b[39mcopy\n\u001b[0;32m    660\u001b[0m     )\n\u001b[0;32m    662\u001b[0m \u001b[38;5;28;01melif\u001b[39;00m \u001b[38;5;28misinstance\u001b[39m(data, \u001b[38;5;28mdict\u001b[39m):\n\u001b[0;32m    663\u001b[0m     \u001b[38;5;66;03m# GH#38939 de facto copy defaults to False only in non-dict cases\u001b[39;00m\n\u001b[1;32m--> 664\u001b[0m     mgr \u001b[38;5;241m=\u001b[39m dict_to_mgr(data, index, columns, dtype\u001b[38;5;241m=\u001b[39mdtype, copy\u001b[38;5;241m=\u001b[39mcopy, typ\u001b[38;5;241m=\u001b[39mmanager)\n\u001b[0;32m    665\u001b[0m \u001b[38;5;28;01melif\u001b[39;00m \u001b[38;5;28misinstance\u001b[39m(data, ma\u001b[38;5;241m.\u001b[39mMaskedArray):\n\u001b[0;32m    666\u001b[0m     \u001b[38;5;28;01mimport\u001b[39;00m \u001b[38;5;21;01mnumpy\u001b[39;00m\u001b[38;5;21;01m.\u001b[39;00m\u001b[38;5;21;01mma\u001b[39;00m\u001b[38;5;21;01m.\u001b[39;00m\u001b[38;5;21;01mmrecords\u001b[39;00m \u001b[38;5;28;01mas\u001b[39;00m \u001b[38;5;21;01mmrecords\u001b[39;00m\n",
      "File \u001b[1;32m~\\anaconda3\\Lib\\site-packages\\pandas\\core\\internals\\construction.py:493\u001b[0m, in \u001b[0;36mdict_to_mgr\u001b[1;34m(data, index, columns, dtype, typ, copy)\u001b[0m\n\u001b[0;32m    489\u001b[0m     \u001b[38;5;28;01melse\u001b[39;00m:\n\u001b[0;32m    490\u001b[0m         \u001b[38;5;66;03m# dtype check to exclude e.g. range objects, scalars\u001b[39;00m\n\u001b[0;32m    491\u001b[0m         arrays \u001b[38;5;241m=\u001b[39m [x\u001b[38;5;241m.\u001b[39mcopy() \u001b[38;5;28;01mif\u001b[39;00m \u001b[38;5;28mhasattr\u001b[39m(x, \u001b[38;5;124m\"\u001b[39m\u001b[38;5;124mdtype\u001b[39m\u001b[38;5;124m\"\u001b[39m) \u001b[38;5;28;01melse\u001b[39;00m x \u001b[38;5;28;01mfor\u001b[39;00m x \u001b[38;5;129;01min\u001b[39;00m arrays]\n\u001b[1;32m--> 493\u001b[0m \u001b[38;5;28;01mreturn\u001b[39;00m arrays_to_mgr(arrays, columns, index, dtype\u001b[38;5;241m=\u001b[39mdtype, typ\u001b[38;5;241m=\u001b[39mtyp, consolidate\u001b[38;5;241m=\u001b[39mcopy)\n",
      "File \u001b[1;32m~\\anaconda3\\Lib\\site-packages\\pandas\\core\\internals\\construction.py:118\u001b[0m, in \u001b[0;36marrays_to_mgr\u001b[1;34m(arrays, columns, index, dtype, verify_integrity, typ, consolidate)\u001b[0m\n\u001b[0;32m    115\u001b[0m \u001b[38;5;28;01mif\u001b[39;00m verify_integrity:\n\u001b[0;32m    116\u001b[0m     \u001b[38;5;66;03m# figure out the index, if necessary\u001b[39;00m\n\u001b[0;32m    117\u001b[0m     \u001b[38;5;28;01mif\u001b[39;00m index \u001b[38;5;129;01mis\u001b[39;00m \u001b[38;5;28;01mNone\u001b[39;00m:\n\u001b[1;32m--> 118\u001b[0m         index \u001b[38;5;241m=\u001b[39m _extract_index(arrays)\n\u001b[0;32m    119\u001b[0m     \u001b[38;5;28;01melse\u001b[39;00m:\n\u001b[0;32m    120\u001b[0m         index \u001b[38;5;241m=\u001b[39m ensure_index(index)\n",
      "File \u001b[1;32m~\\anaconda3\\Lib\\site-packages\\pandas\\core\\internals\\construction.py:656\u001b[0m, in \u001b[0;36m_extract_index\u001b[1;34m(data)\u001b[0m\n\u001b[0;32m    653\u001b[0m         \u001b[38;5;28;01mraise\u001b[39;00m \u001b[38;5;167;01mValueError\u001b[39;00m(\u001b[38;5;124m\"\u001b[39m\u001b[38;5;124mPer-column arrays must each be 1-dimensional\u001b[39m\u001b[38;5;124m\"\u001b[39m)\n\u001b[0;32m    655\u001b[0m \u001b[38;5;28;01mif\u001b[39;00m \u001b[38;5;129;01mnot\u001b[39;00m indexes \u001b[38;5;129;01mand\u001b[39;00m \u001b[38;5;129;01mnot\u001b[39;00m raw_lengths:\n\u001b[1;32m--> 656\u001b[0m     \u001b[38;5;28;01mraise\u001b[39;00m \u001b[38;5;167;01mValueError\u001b[39;00m(\u001b[38;5;124m\"\u001b[39m\u001b[38;5;124mIf using all scalar values, you must pass an index\u001b[39m\u001b[38;5;124m\"\u001b[39m)\n\u001b[0;32m    658\u001b[0m \u001b[38;5;28;01melif\u001b[39;00m have_series:\n\u001b[0;32m    659\u001b[0m     index \u001b[38;5;241m=\u001b[39m union_indexes(indexes)\n",
      "\u001b[1;31mValueError\u001b[0m: If using all scalar values, you must pass an index"
     ]
    }
   ],
   "source": [
    "continent_values=visa_dataset['continent'].value_counts()\n",
    "continet_values_dict=dict(continent_values)\n",
    "print(continet_values_dict)\n",
    "pd.DataFrame(continet_values_dict)"
   ]
  },
  {
   "cell_type": "code",
   "execution_count": 35,
   "id": "7ace3bf4",
   "metadata": {},
   "outputs": [
    {
     "name": "stdout",
     "output_type": "stream",
     "text": [
      "{'Asia': 16861, 'Europe': 3732, 'North America': 3292, 'South America': 852, 'Africa': 551, 'Oceania': 192}\n"
     ]
    },
    {
     "data": {
      "text/html": [
       "<div>\n",
       "<style scoped>\n",
       "    .dataframe tbody tr th:only-of-type {\n",
       "        vertical-align: middle;\n",
       "    }\n",
       "\n",
       "    .dataframe tbody tr th {\n",
       "        vertical-align: top;\n",
       "    }\n",
       "\n",
       "    .dataframe thead th {\n",
       "        text-align: right;\n",
       "    }\n",
       "</style>\n",
       "<table border=\"1\" class=\"dataframe\">\n",
       "  <thead>\n",
       "    <tr style=\"text-align: right;\">\n",
       "      <th></th>\n",
       "      <th>Asia</th>\n",
       "      <th>Europe</th>\n",
       "      <th>North America</th>\n",
       "      <th>South America</th>\n",
       "      <th>Africa</th>\n",
       "      <th>Oceania</th>\n",
       "    </tr>\n",
       "  </thead>\n",
       "  <tbody>\n",
       "    <tr>\n",
       "      <th>Count</th>\n",
       "      <td>16861</td>\n",
       "      <td>3732</td>\n",
       "      <td>3292</td>\n",
       "      <td>852</td>\n",
       "      <td>551</td>\n",
       "      <td>192</td>\n",
       "    </tr>\n",
       "  </tbody>\n",
       "</table>\n",
       "</div>"
      ],
      "text/plain": [
       "        Asia  Europe  North America  South America  Africa  Oceania\n",
       "Count  16861    3732           3292            852     551      192"
      ]
     },
     "execution_count": 35,
     "metadata": {},
     "output_type": "execute_result"
    }
   ],
   "source": [
    "continent_values=visa_dataset['continent'].value_counts()\n",
    "continet_values_dict=dict(continent_values)\n",
    "print(continet_values_dict)\n",
    "pd.DataFrame(continet_values_dict,index=['Count'])"
   ]
  },
  {
   "cell_type": "code",
   "execution_count": null,
   "id": "f539c748",
   "metadata": {},
   "outputs": [],
   "source": [
    "ValueError: If using all scalar values, you must pass an index"
   ]
  },
  {
   "cell_type": "code",
   "execution_count": 36,
   "id": "659cc3eb",
   "metadata": {},
   "outputs": [
    {
     "data": {
      "text/html": [
       "<div>\n",
       "<style scoped>\n",
       "    .dataframe tbody tr th:only-of-type {\n",
       "        vertical-align: middle;\n",
       "    }\n",
       "\n",
       "    .dataframe tbody tr th {\n",
       "        vertical-align: top;\n",
       "    }\n",
       "\n",
       "    .dataframe thead th {\n",
       "        text-align: right;\n",
       "    }\n",
       "</style>\n",
       "<table border=\"1\" class=\"dataframe\">\n",
       "  <thead>\n",
       "    <tr style=\"text-align: right;\">\n",
       "      <th></th>\n",
       "      <th>names</th>\n",
       "      <th>age</th>\n",
       "    </tr>\n",
       "  </thead>\n",
       "  <tbody>\n",
       "    <tr>\n",
       "      <th>0</th>\n",
       "      <td>Ram</td>\n",
       "      <td>25</td>\n",
       "    </tr>\n",
       "    <tr>\n",
       "      <th>1</th>\n",
       "      <td>Sita</td>\n",
       "      <td>22</td>\n",
       "    </tr>\n",
       "  </tbody>\n",
       "</table>\n",
       "</div>"
      ],
      "text/plain": [
       "  names  age\n",
       "0   Ram   25\n",
       "1  Sita   22"
      ]
     },
     "execution_count": 36,
     "metadata": {},
     "output_type": "execute_result"
    }
   ],
   "source": [
    "dict1={'names':['Ram','Sita'],\n",
    "      'age':[25,22]}\n",
    "pd.DataFrame(dict1)"
   ]
  },
  {
   "cell_type": "markdown",
   "id": "f386175e",
   "metadata": {},
   "source": [
    "### Categorical columns plot\n",
    "\n",
    "- Bar Chart\n",
    "- Pie Chart"
   ]
  },
  {
   "cell_type": "code",
   "execution_count": 32,
   "id": "5d76f861",
   "metadata": {},
   "outputs": [
    {
     "data": {
      "text/html": [
       "<div>\n",
       "<style scoped>\n",
       "    .dataframe tbody tr th:only-of-type {\n",
       "        vertical-align: middle;\n",
       "    }\n",
       "\n",
       "    .dataframe tbody tr th {\n",
       "        vertical-align: top;\n",
       "    }\n",
       "\n",
       "    .dataframe thead th {\n",
       "        text-align: right;\n",
       "    }\n",
       "</style>\n",
       "<table border=\"1\" class=\"dataframe\">\n",
       "  <thead>\n",
       "    <tr style=\"text-align: right;\">\n",
       "      <th></th>\n",
       "      <th>Continent</th>\n",
       "      <th>Count</th>\n",
       "    </tr>\n",
       "  </thead>\n",
       "  <tbody>\n",
       "    <tr>\n",
       "      <th>0</th>\n",
       "      <td>Asia</td>\n",
       "      <td>16861</td>\n",
       "    </tr>\n",
       "    <tr>\n",
       "      <th>1</th>\n",
       "      <td>Europe</td>\n",
       "      <td>3732</td>\n",
       "    </tr>\n",
       "    <tr>\n",
       "      <th>2</th>\n",
       "      <td>North America</td>\n",
       "      <td>3292</td>\n",
       "    </tr>\n",
       "    <tr>\n",
       "      <th>3</th>\n",
       "      <td>South America</td>\n",
       "      <td>852</td>\n",
       "    </tr>\n",
       "    <tr>\n",
       "      <th>4</th>\n",
       "      <td>Africa</td>\n",
       "      <td>551</td>\n",
       "    </tr>\n",
       "    <tr>\n",
       "      <th>5</th>\n",
       "      <td>Oceania</td>\n",
       "      <td>192</td>\n",
       "    </tr>\n",
       "  </tbody>\n",
       "</table>\n",
       "</div>"
      ],
      "text/plain": [
       "       Continent  Count\n",
       "0           Asia  16861\n",
       "1         Europe   3732\n",
       "2  North America   3292\n",
       "3  South America    852\n",
       "4         Africa    551\n",
       "5        Oceania    192"
      ]
     },
     "execution_count": 32,
     "metadata": {},
     "output_type": "execute_result"
    }
   ],
   "source": [
    "continent_df"
   ]
  },
  {
   "cell_type": "markdown",
   "id": "0f99f1e4",
   "metadata": {},
   "source": [
    "$Bar - Plot$\n",
    " \n",
    "- Categorical columns\n",
    "\n",
    "- from frequency table(data frame)\n",
    "\n",
    "- x-axis: categorical column\n",
    "\n",
    "- y-axis: numerical column\n",
    "\n",
    "- data: name of the dataframe"
   ]
  },
  {
   "cell_type": "code",
   "execution_count": 40,
   "id": "5a954590",
   "metadata": {},
   "outputs": [
    {
     "data": {
      "text/plain": [
       "<BarContainer object of 6 artists>"
      ]
     },
     "execution_count": 40,
     "metadata": {},
     "output_type": "execute_result"
    },
    {
     "data": {
      "image/png": "[encoded data removed]",
      "text/plain": [
       "<Figure size 1000x600 with 1 Axes>"
      ]
     },
     "metadata": {},
     "output_type": "display_data"
    }
   ],
   "source": [
    "# x-axis : continent\n",
    "# y-axis : count\n",
    "\n",
    "plt.figure(figsize=(10,6))\n",
    "plt.bar('Continent','Count',data=continent_df)"
   ]
  },
  {
   "cell_type": "markdown",
   "id": "31137ea9",
   "metadata": {},
   "source": [
    "- Categorical analyss of data\n",
    "- We need one categorical column\n",
    "- unique and nunique operations\n",
    "- we get value counts\n",
    "- we have seen different types methods to create dataframes\n",
    "- plots (barplot and piechart)"
   ]
  },
  {
   "cell_type": "code",
   "execution_count": 40,
   "id": "8fd92875",
   "metadata": {},
   "outputs": [
    {
     "data": {
      "image/png": "[encoded data removed]",
      "text/plain": [
       "<Figure size 1000x600 with 1 Axes>"
      ]
     },
     "metadata": {},
     "output_type": "display_data"
    }
   ],
   "source": [
    "#X-axis: continent\n",
    "#Y-axis: count\n",
    "import matplotlib.pyplot as plt\n",
    "plt.figure(figsize=(10,6))   # 10 units : Horizontal  6:Vertical\n",
    "plt.bar('continent',\n",
    "        'count',\n",
    "        data=continent_df)\n",
    "plt.xlabel(\"Continents\")\n",
    "plt.ylabel(\"count\")\n",
    "plt.title(\"Bar plot of continnets\")\n",
    "plt.savefig('barplot_contients.png')  #image png and jpg\n",
    "# figure name: barplot_continents\n",
    "# figure extention: png\n",
    "# where it will save: where my python file existed"
   ]
  },
  {
   "cell_type": "code",
   "execution_count": 11,
   "id": "b53b768d",
   "metadata": {},
   "outputs": [
    {
     "data": {
      "text/plain": [
       "<Axes: xlabel='continent', ylabel='count'>"
      ]
     },
     "execution_count": 11,
     "metadata": {},
     "output_type": "execute_result"
    },
    {
     "data": {
      "image/png": "[encoded data removed]",
      "text/plain": [
       "<Figure size 640x480 with 1 Axes>"
      ]
     },
     "metadata": {},
     "output_type": "display_data"
    }
   ],
   "source": [
    "sns.countplot(data=visa_dataset,x='continent')"
   ]
  },
  {
   "cell_type": "code",
   "execution_count": 18,
   "id": "0c1d58b9",
   "metadata": {},
   "outputs": [
    {
     "ename": "AttributeError",
     "evalue": "'function' object has no attribute 'keys'",
     "output_type": "error",
     "traceback": [
      "\u001b[1;31m---------------------------------------------------------------------------\u001b[0m",
      "\u001b[1;31mAttributeError\u001b[0m                            Traceback (most recent call last)",
      "Cell \u001b[1;32mIn[18], line 1\u001b[0m\n\u001b[1;32m----> 1\u001b[0m order_keys\u001b[38;5;241m=\u001b[39mvisa_dataset[\u001b[38;5;124m'\u001b[39m\u001b[38;5;124mcontinent\u001b[39m\u001b[38;5;124m'\u001b[39m]\u001b[38;5;241m.\u001b[39mvalue_counts\u001b[38;5;241m.\u001b[39mkeys()\n\u001b[0;32m      2\u001b[0m order_keys\n",
      "\u001b[1;31mAttributeError\u001b[0m: 'function' object has no attribute 'keys'"
     ]
    }
   ],
   "source": [
    "order_keys=visa_dataset['continent'].value_counts.keys()\n",
    "order_keys"
   ]
  },
  {
   "cell_type": "code",
   "execution_count": null,
   "id": "63049e1c",
   "metadata": {},
   "outputs": [],
   "source": [
    "# M -1 : plt.bar :\n",
    "- when we frequency table\n",
    "- x-axis : categorical column\n",
    "- y axis : numerical column"
   ]
  },
  {
   "cell_type": "code",
   "execution_count": 21,
   "id": "65f83798",
   "metadata": {},
   "outputs": [
    {
     "data": {
      "text/plain": [
       "Certified    17018\n",
       "Denied        8462\n",
       "Name: case_status, dtype: int64"
      ]
     },
     "execution_count": 21,
     "metadata": {},
     "output_type": "execute_result"
    }
   ],
   "source": [
    "# create a frequency table for case status\n",
    "visa_dataset['case_status'].value_counts()"
   ]
  },
  {
   "cell_type": "code",
   "execution_count": 24,
   "id": "c427de22",
   "metadata": {},
   "outputs": [
    {
     "data": {
      "text/html": [
       "<div>\n",
       "<style scoped>\n",
       "    .dataframe tbody tr th:only-of-type {\n",
       "        vertical-align: middle;\n",
       "    }\n",
       "\n",
       "    .dataframe tbody tr th {\n",
       "        vertical-align: top;\n",
       "    }\n",
       "\n",
       "    .dataframe thead th {\n",
       "        text-align: right;\n",
       "    }\n",
       "</style>\n",
       "<table border=\"1\" class=\"dataframe\">\n",
       "  <thead>\n",
       "    <tr style=\"text-align: right;\">\n",
       "      <th></th>\n",
       "      <th>Type</th>\n",
       "      <th>Count</th>\n",
       "    </tr>\n",
       "  </thead>\n",
       "  <tbody>\n",
       "    <tr>\n",
       "      <th>0</th>\n",
       "      <td>Certified</td>\n",
       "      <td>17018</td>\n",
       "    </tr>\n",
       "    <tr>\n",
       "      <th>1</th>\n",
       "      <td>Denied</td>\n",
       "      <td>8462</td>\n",
       "    </tr>\n",
       "  </tbody>\n",
       "</table>\n",
       "</div>"
      ],
      "text/plain": [
       "        Type  Count\n",
       "0  Certified  17018\n",
       "1     Denied   8462"
      ]
     },
     "execution_count": 24,
     "metadata": {},
     "output_type": "execute_result"
    }
   ],
   "source": [
    "name=visa_dataset['case_status'].value_counts().keys()\n",
    "values=visa_dataset['case_status'].value_counts().to_list()\n",
    "case_status_df=pd.DataFrame(zip(name,values),columns=['Type','Count'])\n",
    "\n",
    "case_status_df"
   ]
  },
  {
   "cell_type": "code",
   "execution_count": 38,
   "id": "dec24673",
   "metadata": {},
   "outputs": [
    {
     "data": {
      "text/plain": [
       "<BarContainer object of 2 artists>"
      ]
     },
     "execution_count": 38,
     "metadata": {},
     "output_type": "execute_result"
    },
    {
     "data": {
      "image/png": "[encoded data removed]",
      "text/plain": [
       "<Figure size 640x480 with 1 Axes>"
      ]
     },
     "metadata": {},
     "output_type": "display_data"
    }
   ],
   "source": [
    "plt.bar('Type','Count',data=case_status_df)"
   ]
  },
  {
   "cell_type": "markdown",
   "id": "cdb76fa8",
   "metadata": {},
   "source": [
    "**Diference between plt.bar and sns.countplot**\n",
    "\n",
    "- what is meant by bar plot\n",
    "- what is meant by frequency table\n",
    "- in a class there are 30 boys 40 girls are there\n",
    "- boys   girls\n",
    "-  30     40\n",
    "- but sns.countplot you can directly provide column name\n",
    "- no need to create a dataframe"
   ]
  },
  {
   "cell_type": "code",
   "execution_count": 35,
   "id": "1e8c9117",
   "metadata": {},
   "outputs": [
    {
     "data": {
      "image/png": "[encoded data removed]",
      "text/plain": [
       "<Figure size 640x480 with 1 Axes>"
      ]
     },
     "metadata": {},
     "output_type": "display_data"
    }
   ],
   "source": [
    "value_count=visa_dataset['continent'].value_counts()\n",
    "value_count.plot(kind='bar')\n",
    "plt.show()"
   ]
  },
  {
   "cell_type": "code",
   "execution_count": 41,
   "id": "f281666d",
   "metadata": {},
   "outputs": [
    {
     "data": {
      "text/plain": [
       "Asia             16861\n",
       "Europe            3732\n",
       "North America     3292\n",
       "South America      852\n",
       "Africa             551\n",
       "Oceania            192\n",
       "Name: continent, dtype: int64"
      ]
     },
     "execution_count": 41,
     "metadata": {},
     "output_type": "execute_result"
    }
   ],
   "source": [
    "value_count"
   ]
  },
  {
   "cell_type": "code",
   "execution_count": 42,
   "id": "38277dfb",
   "metadata": {},
   "outputs": [
    {
     "ename": "AttributeError",
     "evalue": "'Axes' object has no attribute 'container'",
     "output_type": "error",
     "traceback": [
      "\u001b[1;31m---------------------------------------------------------------------------\u001b[0m",
      "\u001b[1;31mAttributeError\u001b[0m                            Traceback (most recent call last)",
      "Cell \u001b[1;32mIn[42], line 2\u001b[0m\n\u001b[0;32m      1\u001b[0m ax\u001b[38;5;241m=\u001b[39msns\u001b[38;5;241m.\u001b[39mcountplot(x\u001b[38;5;241m=\u001b[39m\u001b[38;5;124m'\u001b[39m\u001b[38;5;124mcase_status\u001b[39m\u001b[38;5;124m'\u001b[39m,data\u001b[38;5;241m=\u001b[39mvisa_dataset)\n\u001b[1;32m----> 2\u001b[0m ax\u001b[38;5;241m.\u001b[39mbar_label(ax\u001b[38;5;241m.\u001b[39mcontainer[\u001b[38;5;241m0\u001b[39m])\n",
      "\u001b[1;31mAttributeError\u001b[0m: 'Axes' object has no attribute 'container'"
     ]
    },
    {
     "data": {
      "image/png": "[encoded data removed]",
      "text/plain": [
       "<Figure size 640x480 with 1 Axes>"
      ]
     },
     "metadata": {},
     "output_type": "display_data"
    }
   ],
   "source": [
    "ax=sns.countplot(x='case_status',data=visa_dataset)\n",
    "ax.bar_label(ax.container[0])"
   ]
  },
  {
   "cell_type": "markdown",
   "id": "5670556b",
   "metadata": {},
   "source": [
    "**Pie - Chart**"
   ]
  },
  {
   "cell_type": "code",
   "execution_count": 43,
   "id": "a76d4c59",
   "metadata": {},
   "outputs": [
    {
     "data": {
      "text/plain": [
       "Asia             0.661735\n",
       "Europe           0.146468\n",
       "North America    0.129199\n",
       "South America    0.033438\n",
       "Africa           0.021625\n",
       "Oceania          0.007535\n",
       "Name: continent, dtype: float64"
      ]
     },
     "execution_count": 43,
     "metadata": {},
     "output_type": "execute_result"
    }
   ],
   "source": [
    "visa_dataset['continent'].value_counts(normalize=True)"
   ]
  },
  {
   "cell_type": "code",
   "execution_count": 44,
   "id": "37f13cb8",
   "metadata": {},
   "outputs": [
    {
     "ename": "TypeError",
     "evalue": "pie() missing 1 required positional argument: 'x'",
     "output_type": "error",
     "traceback": [
      "\u001b[1;31m---------------------------------------------------------------------------\u001b[0m",
      "\u001b[1;31mTypeError\u001b[0m                                 Traceback (most recent call last)",
      "Cell \u001b[1;32mIn[44], line 1\u001b[0m\n\u001b[1;32m----> 1\u001b[0m plt\u001b[38;5;241m.\u001b[39mpie()\n",
      "\u001b[1;31mTypeError\u001b[0m: pie() missing 1 required positional argument: 'x'"
     ]
    }
   ],
   "source": [
    "plt.pie()"
   ]
  },
  {
   "cell_type": "code",
   "execution_count": 48,
   "id": "6b0a3fd5",
   "metadata": {},
   "outputs": [
    {
     "data": {
      "text/plain": [
       "(Index(['Asia', 'Europe', 'North America', 'South America', 'Africa',\n",
       "        'Oceania'],\n",
       "       dtype='object'),\n",
       " [16861, 3732, 3292, 852, 551, 192])"
      ]
     },
     "execution_count": 48,
     "metadata": {},
     "output_type": "execute_result"
    }
   ],
   "source": [
    "visa_dataset['continent'].value_counts()\n",
    "names=visa_dataset['continent'].value_counts().keys()\n",
    "values=visa_dataset['continent'].value_counts().to_list()\n",
    "\n",
    "names,values"
   ]
  },
  {
   "cell_type": "code",
   "execution_count": 49,
   "id": "ac5ae725",
   "metadata": {},
   "outputs": [
    {
     "data": {
      "text/plain": [
       "([<matplotlib.patches.Wedge at 0x1f02049f9d0>,\n",
       "  <matplotlib.patches.Wedge at 0x1f0204b8a50>,\n",
       "  <matplotlib.patches.Wedge at 0x1f0204b9a50>,\n",
       "  <matplotlib.patches.Wedge at 0x1f02049c8d0>,\n",
       "  <matplotlib.patches.Wedge at 0x1f0204bb810>,\n",
       "  <matplotlib.patches.Wedge at 0x1f0204c4850>],\n",
       " [Text(-0.5351743362316361, 0.9610350825224997, 'Asia'),\n",
       "  Text(-0.10373513115748138, -1.0950977228374372, 'Europe'),\n",
       "  Text(0.7670026411947619, -0.7884839557024984, 'North America'),\n",
       "  Text(1.0546117976794491, -0.3127202522947962, 'South America'),\n",
       "  Text(1.0926986108246142, -0.12652962460213996, 'Africa'),\n",
       "  Text(1.0996917916121562, -0.026037731484255974, 'Oceania')])"
      ]
     },
     "execution_count": 49,
     "metadata": {},
     "output_type": "execute_result"
    },
    {
     "data": {
      "image/png": "[encoded data removed]",
      "text/plain": [
       "<Figure size 640x480 with 1 Axes>"
      ]
     },
     "metadata": {},
     "output_type": "display_data"
    }
   ],
   "source": [
    "plt.pie(x=values,labels=names)"
   ]
  },
  {
   "cell_type": "code",
   "execution_count": 51,
   "id": "0860a712",
   "metadata": {},
   "outputs": [
    {
     "data": {
      "image/png": "[encoded data removed]",
      "text/plain": [
       "<Figure size 640x480 with 1 Axes>"
      ]
     },
     "metadata": {},
     "output_type": "display_data"
    }
   ],
   "source": [
    "plt.pie(x=values,labels=names,autopct='%0.2f%%')\n",
    "plt.show()"
   ]
  },
  {
   "cell_type": "code",
   "execution_count": 54,
   "id": "f1ebc32a",
   "metadata": {},
   "outputs": [
    {
     "data": {
      "image/png": "[encoded data removed]",
      "text/plain": [
       "<Figure size 640x480 with 1 Axes>"
      ]
     },
     "metadata": {},
     "output_type": "display_data"
    }
   ],
   "source": [
    "plt.pie(x=values,labels=names,autopct='%0.2f%%',explode=[0.1,0.1,0.1,0.1,0.1,0.1],startangle=90)\n",
    "plt.show()"
   ]
  },
  {
   "cell_type": "markdown",
   "id": "c75cedc1",
   "metadata": {},
   "source": [
    "$prevailing - wages$"
   ]
  },
  {
   "cell_type": "code",
   "execution_count": 55,
   "id": "7870cad2",
   "metadata": {},
   "outputs": [
    {
     "data": {
      "text/plain": [
       "0           592.2029\n",
       "1         83425.6500\n",
       "2        122996.8600\n",
       "3         83434.0300\n",
       "4        149907.3900\n",
       "            ...     \n",
       "25475     77092.5700\n",
       "25476    279174.7900\n",
       "25477    146298.8500\n",
       "25478     86154.7700\n",
       "25479     70876.9100\n",
       "Name: prevailing_wage, Length: 25480, dtype: float64"
      ]
     },
     "execution_count": 55,
     "metadata": {},
     "output_type": "execute_result"
    }
   ],
   "source": [
    "visa_dataset['prevailing_wage']"
   ]
  },
  {
   "cell_type": "code",
   "execution_count": 59,
   "id": "1a3b4c38",
   "metadata": {},
   "outputs": [
    {
     "data": {
      "text/plain": [
       "pandas.core.series.Series"
      ]
     },
     "execution_count": 59,
     "metadata": {},
     "output_type": "execute_result"
    }
   ],
   "source": [
    "type(visa_dataset['prevailing_wage'])"
   ]
  },
  {
   "cell_type": "code",
   "execution_count": 56,
   "id": "98bce9b9",
   "metadata": {},
   "outputs": [
    {
     "data": {
      "text/plain": [
       "74455.81459209183"
      ]
     },
     "execution_count": 56,
     "metadata": {},
     "output_type": "execute_result"
    }
   ],
   "source": [
    "visa_dataset['prevailing_wage'].mean()"
   ]
  },
  {
   "cell_type": "code",
   "execution_count": 58,
   "id": "6627310f",
   "metadata": {},
   "outputs": [
    {
     "data": {
      "text/plain": [
       "74455.81"
      ]
     },
     "execution_count": 58,
     "metadata": {},
     "output_type": "execute_result"
    }
   ],
   "source": [
    "round(visa_dataset['prevailing_wage'].mean(),2)"
   ]
  },
  {
   "cell_type": "code",
   "execution_count": 60,
   "id": "9a2584a7",
   "metadata": {},
   "outputs": [
    {
     "data": {
      "text/plain": [
       "74455.81459209183"
      ]
     },
     "execution_count": 60,
     "metadata": {},
     "output_type": "execute_result"
    }
   ],
   "source": [
    "# Mean using numpy\n",
    "np.mean(visa_dataset['prevailing_wage'])"
   ]
  },
  {
   "cell_type": "code",
   "execution_count": 61,
   "id": "ffa7de95",
   "metadata": {},
   "outputs": [
    {
     "data": {
      "text/plain": [
       "70308.20999999999"
      ]
     },
     "execution_count": 61,
     "metadata": {},
     "output_type": "execute_result"
    }
   ],
   "source": [
    "# Median using numpy\n",
    "np.median(visa_dataset['prevailing_wage'])"
   ]
  },
  {
   "cell_type": "code",
   "execution_count": 63,
   "id": "cae01942",
   "metadata": {},
   "outputs": [
    {
     "data": {
      "text/plain": [
       "319210.27"
      ]
     },
     "execution_count": 63,
     "metadata": {},
     "output_type": "execute_result"
    }
   ],
   "source": [
    "visa_dataset['prevailing_wage'].max()"
   ]
  },
  {
   "cell_type": "code",
   "execution_count": 64,
   "id": "21cca67a",
   "metadata": {},
   "outputs": [
    {
     "data": {
      "text/plain": [
       "2.1367"
      ]
     },
     "execution_count": 64,
     "metadata": {},
     "output_type": "execute_result"
    }
   ],
   "source": [
    "visa_dataset['prevailing_wage'].min()"
   ]
  },
  {
   "cell_type": "code",
   "execution_count": 65,
   "id": "4ec0c44e",
   "metadata": {},
   "outputs": [
    {
     "data": {
      "text/plain": [
       "25480"
      ]
     },
     "execution_count": 65,
     "metadata": {},
     "output_type": "execute_result"
    }
   ],
   "source": [
    "visa_dataset['prevailing_wage'].count()"
   ]
  },
  {
   "cell_type": "code",
   "execution_count": 68,
   "id": "4e1d1764",
   "metadata": {},
   "outputs": [],
   "source": [
    "p_mean=round(visa_dataset['prevailing_wage'].mean(),2)\n",
    "p_median=round(visa_dataset['prevailing_wage'].median(),2)\n",
    "p_std=round(visa_dataset['prevailing_wage'].std(),2)\n",
    "p_max=round(visa_dataset['prevailing_wage'].max(),2)\n",
    "p_min=round(visa_dataset['prevailing_wage'].min(),2)\n",
    "p_count=round(visa_dataset['prevailing_wage'].count(),2)"
   ]
  },
  {
   "cell_type": "code",
   "execution_count": 69,
   "id": "c36cd975",
   "metadata": {},
   "outputs": [],
   "source": [
    "dict1={'Mean':p_mean,'Median':p_median,'Std':p_std,'Max':p_max,'Min':p_min,'Count':p_count}"
   ]
  },
  {
   "cell_type": "code",
   "execution_count": 70,
   "id": "d78289fe",
   "metadata": {},
   "outputs": [
    {
     "data": {
      "text/plain": [
       "{'Mean': 74455.81,\n",
       " 'Median': 70308.21,\n",
       " 'Std': 52815.94,\n",
       " 'Max': 319210.27,\n",
       " 'Min': 2.14,\n",
       " 'Count': 25480}"
      ]
     },
     "execution_count": 70,
     "metadata": {},
     "output_type": "execute_result"
    }
   ],
   "source": [
    "dict1"
   ]
  },
  {
   "cell_type": "code",
   "execution_count": 71,
   "id": "c05b18bc",
   "metadata": {},
   "outputs": [
    {
     "data": {
      "text/html": [
       "<div>\n",
       "<style scoped>\n",
       "    .dataframe tbody tr th:only-of-type {\n",
       "        vertical-align: middle;\n",
       "    }\n",
       "\n",
       "    .dataframe tbody tr th {\n",
       "        vertical-align: top;\n",
       "    }\n",
       "\n",
       "    .dataframe thead th {\n",
       "        text-align: right;\n",
       "    }\n",
       "</style>\n",
       "<table border=\"1\" class=\"dataframe\">\n",
       "  <thead>\n",
       "    <tr style=\"text-align: right;\">\n",
       "      <th></th>\n",
       "      <th>Mean</th>\n",
       "      <th>Median</th>\n",
       "      <th>Std</th>\n",
       "      <th>Max</th>\n",
       "      <th>Min</th>\n",
       "      <th>Count</th>\n",
       "    </tr>\n",
       "  </thead>\n",
       "  <tbody>\n",
       "    <tr>\n",
       "      <th>prevailing_wage</th>\n",
       "      <td>74455.81</td>\n",
       "      <td>70308.21</td>\n",
       "      <td>52815.94</td>\n",
       "      <td>319210.27</td>\n",
       "      <td>2.14</td>\n",
       "      <td>25480</td>\n",
       "    </tr>\n",
       "  </tbody>\n",
       "</table>\n",
       "</div>"
      ],
      "text/plain": [
       "                     Mean    Median       Std        Max   Min  Count\n",
       "prevailing_wage  74455.81  70308.21  52815.94  319210.27  2.14  25480"
      ]
     },
     "execution_count": 71,
     "metadata": {},
     "output_type": "execute_result"
    }
   ],
   "source": [
    "pd.DataFrame(dict1,index=['prevailing_wage'])"
   ]
  },
  {
   "cell_type": "code",
   "execution_count": 72,
   "id": "5c7e7d04",
   "metadata": {},
   "outputs": [
    {
     "data": {
      "text/html": [
       "<div>\n",
       "<style scoped>\n",
       "    .dataframe tbody tr th:only-of-type {\n",
       "        vertical-align: middle;\n",
       "    }\n",
       "\n",
       "    .dataframe tbody tr th {\n",
       "        vertical-align: top;\n",
       "    }\n",
       "\n",
       "    .dataframe thead th {\n",
       "        text-align: right;\n",
       "    }\n",
       "</style>\n",
       "<table border=\"1\" class=\"dataframe\">\n",
       "  <thead>\n",
       "    <tr style=\"text-align: right;\">\n",
       "      <th></th>\n",
       "      <th>no_of_employees</th>\n",
       "      <th>yr_of_estab</th>\n",
       "      <th>prevailing_wage</th>\n",
       "    </tr>\n",
       "  </thead>\n",
       "  <tbody>\n",
       "    <tr>\n",
       "      <th>count</th>\n",
       "      <td>25480.000000</td>\n",
       "      <td>25480.000000</td>\n",
       "      <td>25480.000000</td>\n",
       "    </tr>\n",
       "    <tr>\n",
       "      <th>mean</th>\n",
       "      <td>5667.043210</td>\n",
       "      <td>1979.409929</td>\n",
       "      <td>74455.814592</td>\n",
       "    </tr>\n",
       "    <tr>\n",
       "      <th>std</th>\n",
       "      <td>22877.928848</td>\n",
       "      <td>42.366929</td>\n",
       "      <td>52815.942327</td>\n",
       "    </tr>\n",
       "    <tr>\n",
       "      <th>min</th>\n",
       "      <td>-26.000000</td>\n",
       "      <td>1800.000000</td>\n",
       "      <td>2.136700</td>\n",
       "    </tr>\n",
       "    <tr>\n",
       "      <th>25%</th>\n",
       "      <td>1022.000000</td>\n",
       "      <td>1976.000000</td>\n",
       "      <td>34015.480000</td>\n",
       "    </tr>\n",
       "    <tr>\n",
       "      <th>50%</th>\n",
       "      <td>2109.000000</td>\n",
       "      <td>1997.000000</td>\n",
       "      <td>70308.210000</td>\n",
       "    </tr>\n",
       "    <tr>\n",
       "      <th>75%</th>\n",
       "      <td>3504.000000</td>\n",
       "      <td>2005.000000</td>\n",
       "      <td>107735.512500</td>\n",
       "    </tr>\n",
       "    <tr>\n",
       "      <th>max</th>\n",
       "      <td>602069.000000</td>\n",
       "      <td>2016.000000</td>\n",
       "      <td>319210.270000</td>\n",
       "    </tr>\n",
       "  </tbody>\n",
       "</table>\n",
       "</div>"
      ],
      "text/plain": [
       "       no_of_employees   yr_of_estab  prevailing_wage\n",
       "count     25480.000000  25480.000000     25480.000000\n",
       "mean       5667.043210   1979.409929     74455.814592\n",
       "std       22877.928848     42.366929     52815.942327\n",
       "min         -26.000000   1800.000000         2.136700\n",
       "25%        1022.000000   1976.000000     34015.480000\n",
       "50%        2109.000000   1997.000000     70308.210000\n",
       "75%        3504.000000   2005.000000    107735.512500\n",
       "max      602069.000000   2016.000000    319210.270000"
      ]
     },
     "execution_count": 72,
     "metadata": {},
     "output_type": "execute_result"
    }
   ],
   "source": [
    "visa_dataset.describe()"
   ]
  },
  {
   "cell_type": "code",
   "execution_count": 73,
   "id": "c47cc37b",
   "metadata": {},
   "outputs": [
    {
     "data": {
      "text/html": [
       "<div>\n",
       "<style scoped>\n",
       "    .dataframe tbody tr th:only-of-type {\n",
       "        vertical-align: middle;\n",
       "    }\n",
       "\n",
       "    .dataframe tbody tr th {\n",
       "        vertical-align: top;\n",
       "    }\n",
       "\n",
       "    .dataframe thead th {\n",
       "        text-align: right;\n",
       "    }\n",
       "</style>\n",
       "<table border=\"1\" class=\"dataframe\">\n",
       "  <thead>\n",
       "    <tr style=\"text-align: right;\">\n",
       "      <th></th>\n",
       "      <th>prevailing_wage</th>\n",
       "    </tr>\n",
       "  </thead>\n",
       "  <tbody>\n",
       "    <tr>\n",
       "      <th>mean</th>\n",
       "      <td>74455.81</td>\n",
       "    </tr>\n",
       "    <tr>\n",
       "      <th>median</th>\n",
       "      <td>70308.21</td>\n",
       "    </tr>\n",
       "    <tr>\n",
       "      <th>std</th>\n",
       "      <td>52815.94</td>\n",
       "    </tr>\n",
       "    <tr>\n",
       "      <th>max</th>\n",
       "      <td>319210.27</td>\n",
       "    </tr>\n",
       "    <tr>\n",
       "      <th>min</th>\n",
       "      <td>2.14</td>\n",
       "    </tr>\n",
       "    <tr>\n",
       "      <th>count</th>\n",
       "      <td>25480.00</td>\n",
       "    </tr>\n",
       "  </tbody>\n",
       "</table>\n",
       "</div>"
      ],
      "text/plain": [
       "        prevailing_wage\n",
       "mean           74455.81\n",
       "median         70308.21\n",
       "std            52815.94\n",
       "max           319210.27\n",
       "min                2.14\n",
       "count          25480.00"
      ]
     },
     "execution_count": 73,
     "metadata": {},
     "output_type": "execute_result"
    }
   ],
   "source": [
    "list1=[p_mean,p_median,p_std,p_max,p_min,p_count]\n",
    "pd.DataFrame(list1,columns=['prevailing_wage'],index=['mean','median','std','max','min','count'])"
   ]
  },
  {
   "cell_type": "markdown",
   "id": "4fd1565d",
   "metadata": {},
   "source": [
    "$Numerical - Analysis$"
   ]
  },
  {
   "cell_type": "code",
   "execution_count": 7,
   "id": "4cd28c33",
   "metadata": {},
   "outputs": [
    {
     "data": {
      "text/plain": [
       "array([   592.2029,  83425.65  , 122996.86  , ..., 146298.85  ,\n",
       "        86154.77  ,  70876.91  ])"
      ]
     },
     "execution_count": 7,
     "metadata": {},
     "output_type": "execute_result"
    }
   ],
   "source": [
    "visa_dataset['prevailing_wage'].unique()"
   ]
  },
  {
   "cell_type": "markdown",
   "id": "afd23e20",
   "metadata": {},
   "source": [
    "$percentile-and-quantile$"
   ]
  },
  {
   "cell_type": "markdown",
   "id": "57439aa6",
   "metadata": {},
   "source": [
    "- Percentile : 1 to 100\n",
    "- Quantile : 25 50 75\n",
    "    \n",
    "- A person has exam marks 120 and his percentile is 95\n",
    "- 95% of the total candidates has marks less than 120"
   ]
  },
  {
   "cell_type": "code",
   "execution_count": 11,
   "id": "ff77863c",
   "metadata": {},
   "outputs": [
    {
     "name": "stdout",
     "output_type": "stream",
     "text": [
      "34015.48 70308.21 107735.51\n"
     ]
    }
   ],
   "source": [
    "data=visa_dataset['prevailing_wage']\n",
    "per_25=round(np.percentile(data,25),2)\n",
    "per_50=round(np.percentile(data,50),2)\n",
    "per_75=round(np.percentile(data,75),2)\n",
    "print(per_25,per_50,per_75)"
   ]
  },
  {
   "cell_type": "code",
   "execution_count": 12,
   "id": "dff2d06a",
   "metadata": {},
   "outputs": [
    {
     "data": {
      "text/plain": [
       "25674.21"
      ]
     },
     "execution_count": 12,
     "metadata": {},
     "output_type": "execute_result"
    }
   ],
   "source": [
    "per_20=round(np.percentile(data,20),2)\n",
    "per_20"
   ]
  },
  {
   "cell_type": "code",
   "execution_count": 14,
   "id": "0da29f3b",
   "metadata": {},
   "outputs": [
    {
     "data": {
      "text/plain": [
       "34015.479999999996"
      ]
     },
     "execution_count": 14,
     "metadata": {},
     "output_type": "execute_result"
    }
   ],
   "source": [
    "np.quantile(data,0.25)"
   ]
  },
  {
   "cell_type": "markdown",
   "id": "4698a4bd",
   "metadata": {},
   "source": [
    "- Percentile requires 0 to 100\n",
    "- Quantile requires 0 to 1"
   ]
  },
  {
   "cell_type": "code",
   "execution_count": 15,
   "id": "953ca0ea",
   "metadata": {},
   "outputs": [],
   "source": [
    "data=visa_dataset['prevailing_wage']\n",
    "quan_25=round(np.quantile(data,0.25),2)\n",
    "quan_50=round(np.quantile(data,0.50),2)\n",
    "quan_75=round(np.quantile(data,0.75),2)"
   ]
  },
  {
   "cell_type": "code",
   "execution_count": 17,
   "id": "cb00af1f",
   "metadata": {},
   "outputs": [
    {
     "data": {
      "text/html": [
       "<div>\n",
       "<style scoped>\n",
       "    .dataframe tbody tr th:only-of-type {\n",
       "        vertical-align: middle;\n",
       "    }\n",
       "\n",
       "    .dataframe tbody tr th {\n",
       "        vertical-align: top;\n",
       "    }\n",
       "\n",
       "    .dataframe thead th {\n",
       "        text-align: right;\n",
       "    }\n",
       "</style>\n",
       "<table border=\"1\" class=\"dataframe\">\n",
       "  <thead>\n",
       "    <tr style=\"text-align: right;\">\n",
       "      <th></th>\n",
       "      <th>p_mean</th>\n",
       "      <th>p_median</th>\n",
       "      <th>p_std</th>\n",
       "      <th>p_max</th>\n",
       "      <th>p_min</th>\n",
       "      <th>p_count</th>\n",
       "      <th>25%</th>\n",
       "      <th>50%</th>\n",
       "      <th>75%</th>\n",
       "    </tr>\n",
       "  </thead>\n",
       "  <tbody>\n",
       "    <tr>\n",
       "      <th>prevailing_wage</th>\n",
       "      <td>74455.81</td>\n",
       "      <td>70308.21</td>\n",
       "      <td>52815.94</td>\n",
       "      <td>319210.27</td>\n",
       "      <td>2.14</td>\n",
       "      <td>25480</td>\n",
       "      <td>34015.48</td>\n",
       "      <td>70308.21</td>\n",
       "      <td>107735.51</td>\n",
       "    </tr>\n",
       "  </tbody>\n",
       "</table>\n",
       "</div>"
      ],
      "text/plain": [
       "                   p_mean  p_median     p_std      p_max  p_min  p_count  \\\n",
       "prevailing_wage  74455.81  70308.21  52815.94  319210.27   2.14    25480   \n",
       "\n",
       "                      25%       50%        75%  \n",
       "prevailing_wage  34015.48  70308.21  107735.51  "
      ]
     },
     "execution_count": 17,
     "metadata": {},
     "output_type": "execute_result"
    }
   ],
   "source": [
    "dict2={}\n",
    "dict2['p_mean']=round(visa_dataset['prevailing_wage'].mean(),2)\n",
    "dict2['p_median']=round(visa_dataset['prevailing_wage'].median(),2)\n",
    "dict2['p_std']=round(visa_dataset['prevailing_wage'].std(),2)\n",
    "dict2['p_max']=round(visa_dataset['prevailing_wage'].max(),2)\n",
    "dict2['p_min']=round(visa_dataset['prevailing_wage'].min(),2)\n",
    "dict2['p_count']=round(visa_dataset['prevailing_wage'].count(),2)\n",
    "dict2['25%']=round(np.percentile(data,25),2)\n",
    "dict2['50%']=round(np.percentile(data,50),2)\n",
    "dict2['75%']=round(np.percentile(data,75),2)\n",
    "\n",
    "pd.DataFrame(dict2,index=['prevailing_wage'])"
   ]
  },
  {
   "cell_type": "code",
   "execution_count": 18,
   "id": "cd51421b",
   "metadata": {},
   "outputs": [
    {
     "data": {
      "text/html": [
       "<div>\n",
       "<style scoped>\n",
       "    .dataframe tbody tr th:only-of-type {\n",
       "        vertical-align: middle;\n",
       "    }\n",
       "\n",
       "    .dataframe tbody tr th {\n",
       "        vertical-align: top;\n",
       "    }\n",
       "\n",
       "    .dataframe thead th {\n",
       "        text-align: right;\n",
       "    }\n",
       "</style>\n",
       "<table border=\"1\" class=\"dataframe\">\n",
       "  <thead>\n",
       "    <tr style=\"text-align: right;\">\n",
       "      <th></th>\n",
       "      <th>prevailing_wage</th>\n",
       "    </tr>\n",
       "  </thead>\n",
       "  <tbody>\n",
       "    <tr>\n",
       "      <th>p_mean</th>\n",
       "      <td>74455.81</td>\n",
       "    </tr>\n",
       "    <tr>\n",
       "      <th>p_median</th>\n",
       "      <td>70308.21</td>\n",
       "    </tr>\n",
       "    <tr>\n",
       "      <th>p_std</th>\n",
       "      <td>52815.94</td>\n",
       "    </tr>\n",
       "    <tr>\n",
       "      <th>p_max</th>\n",
       "      <td>319210.27</td>\n",
       "    </tr>\n",
       "    <tr>\n",
       "      <th>p_min</th>\n",
       "      <td>2.14</td>\n",
       "    </tr>\n",
       "    <tr>\n",
       "      <th>p_count</th>\n",
       "      <td>25480.00</td>\n",
       "    </tr>\n",
       "    <tr>\n",
       "      <th>25%</th>\n",
       "      <td>34015.48</td>\n",
       "    </tr>\n",
       "    <tr>\n",
       "      <th>50%</th>\n",
       "      <td>70308.21</td>\n",
       "    </tr>\n",
       "    <tr>\n",
       "      <th>75%</th>\n",
       "      <td>107735.51</td>\n",
       "    </tr>\n",
       "  </tbody>\n",
       "</table>\n",
       "</div>"
      ],
      "text/plain": [
       "          prevailing_wage\n",
       "p_mean           74455.81\n",
       "p_median         70308.21\n",
       "p_std            52815.94\n",
       "p_max           319210.27\n",
       "p_min                2.14\n",
       "p_count          25480.00\n",
       "25%              34015.48\n",
       "50%              70308.21\n",
       "75%             107735.51"
      ]
     },
     "execution_count": 18,
     "metadata": {},
     "output_type": "execute_result"
    }
   ],
   "source": [
    "dict2.keys()\n",
    "dict2.values()\n",
    "pd.DataFrame(dict2.values(),columns=['prevailing_wage'],index=dict2.keys())"
   ]
  },
  {
   "cell_type": "markdown",
   "id": "436de726",
   "metadata": {},
   "source": [
    "$Plots$"
   ]
  },
  {
   "cell_type": "markdown",
   "id": "25fcf408",
   "metadata": {},
   "source": [
    "- For numerical analysis : Histogram and Frequency distribution plots\n",
    "- For bivalence analysis : scatter plots"
   ]
  },
  {
   "cell_type": "markdown",
   "id": "b0fbe721",
   "metadata": {},
   "source": [
    "$Histogram$"
   ]
  },
  {
   "cell_type": "code",
   "execution_count": 21,
   "id": "58b55213",
   "metadata": {},
   "outputs": [
    {
     "data": {
      "image/png": "[encoded data removed]",
      "text/plain": [
       "<Figure size 640x480 with 1 Axes>"
      ]
     },
     "metadata": {},
     "output_type": "display_data"
    }
   ],
   "source": [
    "data=visa_dataset['prevailing_wage']\n",
    "frequency,interval,n=plt.hist(data,bins=40)"
   ]
  },
  {
   "cell_type": "code",
   "execution_count": 22,
   "id": "e59c131e",
   "metadata": {},
   "outputs": [
    {
     "data": {
      "text/plain": [
       "array([2992.,  871., 1005., 1170., 1242., 1434., 1385., 1443., 1444.,\n",
       "       1445., 1457., 1335., 1268., 1217., 1088.,  978.,  807.,  645.,\n",
       "        509.,  373.,  264.,  144.,  105.,  111.,  107.,   99.,   88.,\n",
       "         79.,   65.,   64.,   58.,   53.,   33.,   33.,   29.,   19.,\n",
       "          7.,    3.,    6.,    5.])"
      ]
     },
     "execution_count": 22,
     "metadata": {},
     "output_type": "execute_result"
    }
   ],
   "source": [
    "frequency"
   ]
  },
  {
   "cell_type": "code",
   "execution_count": 23,
   "id": "16ceb4b2",
   "metadata": {},
   "outputs": [
    {
     "data": {
      "text/plain": [
       "array([2.13670000e+00, 7.98234003e+03, 1.59625434e+04, 2.39427467e+04,\n",
       "       3.19229500e+04, 3.99031534e+04, 4.78833567e+04, 5.58635600e+04,\n",
       "       6.38437634e+04, 7.18239667e+04, 7.98041700e+04, 8.77843734e+04,\n",
       "       9.57645767e+04, 1.03744780e+05, 1.11724983e+05, 1.19705187e+05,\n",
       "       1.27685390e+05, 1.35665593e+05, 1.43645797e+05, 1.51626000e+05,\n",
       "       1.59606203e+05, 1.67586407e+05, 1.75566610e+05, 1.83546813e+05,\n",
       "       1.91527017e+05, 1.99507220e+05, 2.07487423e+05, 2.15467627e+05,\n",
       "       2.23447830e+05, 2.31428033e+05, 2.39408237e+05, 2.47388440e+05,\n",
       "       2.55368643e+05, 2.63348847e+05, 2.71329050e+05, 2.79309253e+05,\n",
       "       2.87289457e+05, 2.95269660e+05, 3.03249863e+05, 3.11230067e+05,\n",
       "       3.19210270e+05])"
      ]
     },
     "execution_count": 23,
     "metadata": {},
     "output_type": "execute_result"
    }
   ],
   "source": [
    "interval"
   ]
  },
  {
   "cell_type": "code",
   "execution_count": 28,
   "id": "d0623e55",
   "metadata": {},
   "outputs": [
    {
     "data": {
      "image/png": "[encoded data removed]",
      "text/plain": [
       "<Figure size 640x480 with 1 Axes>"
      ]
     },
     "metadata": {},
     "output_type": "display_data"
    }
   ],
   "source": [
    "data=visa_dataset['prevailing_wage']\n",
    "plt.hist(data,bins=40,color='g')\n",
    "plt.xlabel('Intervals')\n",
    "plt.ylabel('Count')\n",
    "plt.title('Histogram')\n",
    "plt.savefig('wage_histogram.jpg')\n",
    "plt.show()"
   ]
  },
  {
   "cell_type": "markdown",
   "id": "a385ecf1",
   "metadata": {},
   "source": [
    "- There is outliers are there\n",
    "- Positive side or Right side"
   ]
  },
  {
   "cell_type": "markdown",
   "id": "b3054a38",
   "metadata": {},
   "source": [
    "$BoxPlot$"
   ]
  },
  {
   "cell_type": "code",
   "execution_count": null,
   "id": "3344fb54",
   "metadata": {},
   "outputs": [],
   "source": [
    "Q1-1.5*IQR             Q2     median     Q3        Q3+1.5*IQR\n"
   ]
  },
  {
   "cell_type": "code",
   "execution_count": 29,
   "id": "2cca850a",
   "metadata": {},
   "outputs": [
    {
     "data": {
      "image/png": "[encoded data removed]",
      "text/plain": [
       "<Figure size 640x480 with 1 Axes>"
      ]
     },
     "metadata": {},
     "output_type": "display_data"
    }
   ],
   "source": [
    "plt.boxplot(data)\n",
    "plt.show()"
   ]
  },
  {
   "cell_type": "code",
   "execution_count": 30,
   "id": "d56ab0d9",
   "metadata": {},
   "outputs": [
    {
     "data": {
      "image/png": "[encoded data removed]",
      "text/plain": [
       "<Figure size 640x480 with 1 Axes>"
      ]
     },
     "metadata": {},
     "output_type": "display_data"
    }
   ],
   "source": [
    "plt.boxplot(data,vert=False)\n",
    "plt.show()"
   ]
  },
  {
   "cell_type": "code",
   "execution_count": null,
   "id": "934ebed1",
   "metadata": {},
   "outputs": [],
   "source": [
    "- Step1 : Find Q1:25    Q2:50    Q3:75\n",
    "- Step2 : IQR : (Q3-Q1)\n",
    "- Step3 : Q1-1.5*IQR : Lower bound\n",
    "- Step4 : Q3+1.5*IQR : Upper bound"
   ]
  },
  {
   "cell_type": "code",
   "execution_count": 34,
   "id": "e31dcad0",
   "metadata": {},
   "outputs": [
    {
     "name": "stdout",
     "output_type": "stream",
     "text": [
      "Q1 :  34015.48\n",
      "Q2 :  70308.21\n",
      "Q3 :  107735.51\n",
      "IQR :  73720.03\n",
      "LB :  -76564.565\n",
      "UB :  218315.555\n"
     ]
    }
   ],
   "source": [
    "Q1=round(np.quantile(data,0.25),2)\n",
    "Q2=round(np.quantile(data,0.50),2)\n",
    "Q3=round(np.quantile(data,0.75),2)\n",
    "IQR=Q3-Q1\n",
    "LB=Q1-1.5*IQR\n",
    "UB=Q3+1.5*IQR\n",
    "\n",
    "print('Q1 : ',Q1)\n",
    "print('Q2 : ',Q2)\n",
    "print('Q3 : ',Q3)\n",
    "print('IQR : ',IQR)\n",
    "print('LB : ',LB)\n",
    "print('UB : ',UB)"
   ]
  },
  {
   "cell_type": "code",
   "execution_count": 37,
   "id": "5ce25825",
   "metadata": {},
   "outputs": [
    {
     "data": {
      "text/html": [
       "<div>\n",
       "<style scoped>\n",
       "    .dataframe tbody tr th:only-of-type {\n",
       "        vertical-align: middle;\n",
       "    }\n",
       "\n",
       "    .dataframe tbody tr th {\n",
       "        vertical-align: top;\n",
       "    }\n",
       "\n",
       "    .dataframe thead th {\n",
       "        text-align: right;\n",
       "    }\n",
       "</style>\n",
       "<table border=\"1\" class=\"dataframe\">\n",
       "  <thead>\n",
       "    <tr style=\"text-align: right;\">\n",
       "      <th></th>\n",
       "      <th>case_id</th>\n",
       "      <th>continent</th>\n",
       "      <th>education_of_employee</th>\n",
       "      <th>has_job_experience</th>\n",
       "      <th>requires_job_training</th>\n",
       "      <th>no_of_employees</th>\n",
       "      <th>yr_of_estab</th>\n",
       "      <th>region_of_employment</th>\n",
       "      <th>prevailing_wage</th>\n",
       "      <th>unit_of_wage</th>\n",
       "      <th>full_time_position</th>\n",
       "      <th>case_status</th>\n",
       "    </tr>\n",
       "  </thead>\n",
       "  <tbody>\n",
       "    <tr>\n",
       "      <th>14</th>\n",
       "      <td>EZYV15</td>\n",
       "      <td>Asia</td>\n",
       "      <td>Master's</td>\n",
       "      <td>Y</td>\n",
       "      <td>Y</td>\n",
       "      <td>15756</td>\n",
       "      <td>2006</td>\n",
       "      <td>South</td>\n",
       "      <td>220081.73</td>\n",
       "      <td>Year</td>\n",
       "      <td>Y</td>\n",
       "      <td>Certified</td>\n",
       "    </tr>\n",
       "    <tr>\n",
       "      <th>34</th>\n",
       "      <td>EZYV35</td>\n",
       "      <td>Asia</td>\n",
       "      <td>Master's</td>\n",
       "      <td>N</td>\n",
       "      <td>N</td>\n",
       "      <td>1809</td>\n",
       "      <td>2010</td>\n",
       "      <td>South</td>\n",
       "      <td>225569.73</td>\n",
       "      <td>Year</td>\n",
       "      <td>N</td>\n",
       "      <td>Certified</td>\n",
       "    </tr>\n",
       "    <tr>\n",
       "      <th>130</th>\n",
       "      <td>EZYV131</td>\n",
       "      <td>South America</td>\n",
       "      <td>High School</td>\n",
       "      <td>N</td>\n",
       "      <td>N</td>\n",
       "      <td>2554</td>\n",
       "      <td>2005</td>\n",
       "      <td>Midwest</td>\n",
       "      <td>247393.01</td>\n",
       "      <td>Year</td>\n",
       "      <td>Y</td>\n",
       "      <td>Certified</td>\n",
       "    </tr>\n",
       "    <tr>\n",
       "      <th>216</th>\n",
       "      <td>EZYV217</td>\n",
       "      <td>Asia</td>\n",
       "      <td>Master's</td>\n",
       "      <td>Y</td>\n",
       "      <td>N</td>\n",
       "      <td>1515</td>\n",
       "      <td>2001</td>\n",
       "      <td>Midwest</td>\n",
       "      <td>269321.68</td>\n",
       "      <td>Year</td>\n",
       "      <td>N</td>\n",
       "      <td>Certified</td>\n",
       "    </tr>\n",
       "    <tr>\n",
       "      <th>221</th>\n",
       "      <td>EZYV222</td>\n",
       "      <td>North America</td>\n",
       "      <td>Doctorate</td>\n",
       "      <td>Y</td>\n",
       "      <td>Y</td>\n",
       "      <td>2518</td>\n",
       "      <td>2010</td>\n",
       "      <td>South</td>\n",
       "      <td>219529.62</td>\n",
       "      <td>Year</td>\n",
       "      <td>Y</td>\n",
       "      <td>Certified</td>\n",
       "    </tr>\n",
       "    <tr>\n",
       "      <th>...</th>\n",
       "      <td>...</td>\n",
       "      <td>...</td>\n",
       "      <td>...</td>\n",
       "      <td>...</td>\n",
       "      <td>...</td>\n",
       "      <td>...</td>\n",
       "      <td>...</td>\n",
       "      <td>...</td>\n",
       "      <td>...</td>\n",
       "      <td>...</td>\n",
       "      <td>...</td>\n",
       "      <td>...</td>\n",
       "    </tr>\n",
       "    <tr>\n",
       "      <th>25191</th>\n",
       "      <td>EZYV25192</td>\n",
       "      <td>Asia</td>\n",
       "      <td>Master's</td>\n",
       "      <td>N</td>\n",
       "      <td>N</td>\n",
       "      <td>4983</td>\n",
       "      <td>2005</td>\n",
       "      <td>Midwest</td>\n",
       "      <td>280482.51</td>\n",
       "      <td>Year</td>\n",
       "      <td>Y</td>\n",
       "      <td>Denied</td>\n",
       "    </tr>\n",
       "    <tr>\n",
       "      <th>25195</th>\n",
       "      <td>EZYV25196</td>\n",
       "      <td>North America</td>\n",
       "      <td>Master's</td>\n",
       "      <td>Y</td>\n",
       "      <td>N</td>\n",
       "      <td>47</td>\n",
       "      <td>2001</td>\n",
       "      <td>South</td>\n",
       "      <td>234308.77</td>\n",
       "      <td>Year</td>\n",
       "      <td>N</td>\n",
       "      <td>Certified</td>\n",
       "    </tr>\n",
       "    <tr>\n",
       "      <th>25468</th>\n",
       "      <td>EZYV25469</td>\n",
       "      <td>Asia</td>\n",
       "      <td>Bachelor's</td>\n",
       "      <td>N</td>\n",
       "      <td>N</td>\n",
       "      <td>373</td>\n",
       "      <td>2005</td>\n",
       "      <td>Midwest</td>\n",
       "      <td>272715.74</td>\n",
       "      <td>Year</td>\n",
       "      <td>N</td>\n",
       "      <td>Certified</td>\n",
       "    </tr>\n",
       "    <tr>\n",
       "      <th>25469</th>\n",
       "      <td>EZYV25470</td>\n",
       "      <td>North America</td>\n",
       "      <td>Master's</td>\n",
       "      <td>Y</td>\n",
       "      <td>N</td>\n",
       "      <td>2261</td>\n",
       "      <td>1997</td>\n",
       "      <td>Northeast</td>\n",
       "      <td>273772.47</td>\n",
       "      <td>Year</td>\n",
       "      <td>N</td>\n",
       "      <td>Certified</td>\n",
       "    </tr>\n",
       "    <tr>\n",
       "      <th>25476</th>\n",
       "      <td>EZYV25477</td>\n",
       "      <td>Asia</td>\n",
       "      <td>High School</td>\n",
       "      <td>Y</td>\n",
       "      <td>N</td>\n",
       "      <td>3274</td>\n",
       "      <td>2006</td>\n",
       "      <td>Northeast</td>\n",
       "      <td>279174.79</td>\n",
       "      <td>Year</td>\n",
       "      <td>Y</td>\n",
       "      <td>Certified</td>\n",
       "    </tr>\n",
       "  </tbody>\n",
       "</table>\n",
       "<p>427 rows × 12 columns</p>\n",
       "</div>"
      ],
      "text/plain": [
       "         case_id      continent education_of_employee has_job_experience  \\\n",
       "14        EZYV15           Asia              Master's                  Y   \n",
       "34        EZYV35           Asia              Master's                  N   \n",
       "130      EZYV131  South America           High School                  N   \n",
       "216      EZYV217           Asia              Master's                  Y   \n",
       "221      EZYV222  North America             Doctorate                  Y   \n",
       "...          ...            ...                   ...                ...   \n",
       "25191  EZYV25192           Asia              Master's                  N   \n",
       "25195  EZYV25196  North America              Master's                  Y   \n",
       "25468  EZYV25469           Asia            Bachelor's                  N   \n",
       "25469  EZYV25470  North America              Master's                  Y   \n",
       "25476  EZYV25477           Asia           High School                  Y   \n",
       "\n",
       "      requires_job_training  no_of_employees  yr_of_estab  \\\n",
       "14                        Y            15756         2006   \n",
       "34                        N             1809         2010   \n",
       "130                       N             2554         2005   \n",
       "216                       N             1515         2001   \n",
       "221                       Y             2518         2010   \n",
       "...                     ...              ...          ...   \n",
       "25191                     N             4983         2005   \n",
       "25195                     N               47         2001   \n",
       "25468                     N              373         2005   \n",
       "25469                     N             2261         1997   \n",
       "25476                     N             3274         2006   \n",
       "\n",
       "      region_of_employment  prevailing_wage unit_of_wage full_time_position  \\\n",
       "14                   South        220081.73         Year                  Y   \n",
       "34                   South        225569.73         Year                  N   \n",
       "130                Midwest        247393.01         Year                  Y   \n",
       "216                Midwest        269321.68         Year                  N   \n",
       "221                  South        219529.62         Year                  Y   \n",
       "...                    ...              ...          ...                ...   \n",
       "25191              Midwest        280482.51         Year                  Y   \n",
       "25195                South        234308.77         Year                  N   \n",
       "25468              Midwest        272715.74         Year                  N   \n",
       "25469            Northeast        273772.47         Year                  N   \n",
       "25476            Northeast        279174.79         Year                  Y   \n",
       "\n",
       "      case_status  \n",
       "14      Certified  \n",
       "34      Certified  \n",
       "130     Certified  \n",
       "216     Certified  \n",
       "221     Certified  \n",
       "...           ...  \n",
       "25191      Denied  \n",
       "25195   Certified  \n",
       "25468   Certified  \n",
       "25469   Certified  \n",
       "25476   Certified  \n",
       "\n",
       "[427 rows x 12 columns]"
      ]
     },
     "execution_count": 37,
     "metadata": {},
     "output_type": "execute_result"
    }
   ],
   "source": [
    "# Outliers are less than LB\n",
    "# Outliers are greater than UP\n",
    "\n",
    "# C1 : data<LB\n",
    "# C2 : data>un\n",
    "# C1 or C2\n",
    "data=visa_dataset['prevailing_wage']\n",
    "cond1=data<LB\n",
    "cond2=data>UB\n",
    "\n",
    "cond1|cond2    #  It will return bool values\n",
    "# In order to get the data\n",
    "# actual data : visadata\n",
    "\n",
    "outliers_data=visa_dataset[cond1|cond2]\n",
    "outliers_data"
   ]
  },
  {
   "cell_type": "code",
   "execution_count": 39,
   "id": "945b8cfc",
   "metadata": {},
   "outputs": [
    {
     "data": {
      "text/plain": [
       "427"
      ]
     },
     "execution_count": 39,
     "metadata": {},
     "output_type": "execute_result"
    }
   ],
   "source": [
    "len(outliers_data)"
   ]
  },
  {
   "cell_type": "code",
   "execution_count": 40,
   "id": "f822dd18",
   "metadata": {},
   "outputs": [
    {
     "data": {
      "text/plain": [
       "14       220081.73\n",
       "34       225569.73\n",
       "130      247393.01\n",
       "216      269321.68\n",
       "221      219529.62\n",
       "           ...    \n",
       "25191    280482.51\n",
       "25195    234308.77\n",
       "25468    272715.74\n",
       "25469    273772.47\n",
       "25476    279174.79\n",
       "Name: prevailing_wage, Length: 427, dtype: float64"
      ]
     },
     "execution_count": 40,
     "metadata": {},
     "output_type": "execute_result"
    }
   ],
   "source": [
    "outliers_data['prevailing_wage']"
   ]
  },
  {
   "cell_type": "code",
   "execution_count": 41,
   "id": "7210de4c",
   "metadata": {},
   "outputs": [],
   "source": [
    "outliers=outliers_data['prevailing_wage'].to_list()"
   ]
  },
  {
   "cell_type": "code",
   "execution_count": 42,
   "id": "44094533",
   "metadata": {},
   "outputs": [
    {
     "data": {
      "text/plain": [
       "[220081.73,\n",
       " 225569.73,\n",
       " 247393.01,\n",
       " 269321.68,\n",
       " 219529.62,\n",
       " 232227.33,\n",
       " 238691.32,\n",
       " 220448.17,\n",
       " 230750.48,\n",
       " 235339.91,\n",
       " 232680.65,\n",
       " 256261.78,\n",
       " 262189.0,\n",
       " 250510.67,\n",
       " 218554.78,\n",
       " 256205.38,\n",
       " 221944.22,\n",
       " 229950.7,\n",
       " 222628.84,\n",
       " 229819.69,\n",
       " 233641.72,\n",
       " 274019.43,\n",
       " 218982.83,\n",
       " 230984.28,\n",
       " 223128.23,\n",
       " 246705.0,\n",
       " 240266.34,\n",
       " 226090.72,\n",
       " 231949.27,\n",
       " 254604.08,\n",
       " 288318.91,\n",
       " 244457.48,\n",
       " 242146.48,\n",
       " 247545.23,\n",
       " 234139.17,\n",
       " 231834.72,\n",
       " 222730.57,\n",
       " 239773.63,\n",
       " 220553.95,\n",
       " 237539.32,\n",
       " 266440.49,\n",
       " 277281.01,\n",
       " 275627.59,\n",
       " 249291.12,\n",
       " 292106.59,\n",
       " 234012.11,\n",
       " 247009.24,\n",
       " 267726.09,\n",
       " 222098.09,\n",
       " 280661.13,\n",
       " 277984.52,\n",
       " 262852.71,\n",
       " 263877.21,\n",
       " 230916.64,\n",
       " 264760.64,\n",
       " 267868.56,\n",
       " 222221.67,\n",
       " 242406.32,\n",
       " 276894.08,\n",
       " 281832.93,\n",
       " 221033.57,\n",
       " 258292.84,\n",
       " 223492.85,\n",
       " 245418.67,\n",
       " 250289.08,\n",
       " 271344.69,\n",
       " 252825.11,\n",
       " 230843.7,\n",
       " 253668.86,\n",
       " 245819.17,\n",
       " 239465.3,\n",
       " 236316.36,\n",
       " 225268.13,\n",
       " 228941.33,\n",
       " 306021.96,\n",
       " 228074.25,\n",
       " 270799.93,\n",
       " 221982.69,\n",
       " 256903.7,\n",
       " 242813.07,\n",
       " 253111.05,\n",
       " 268440.33,\n",
       " 225681.78,\n",
       " 233150.41,\n",
       " 307410.02,\n",
       " 227609.87,\n",
       " 248247.63,\n",
       " 244813.07,\n",
       " 233642.47,\n",
       " 246955.19,\n",
       " 304543.67,\n",
       " 236918.29,\n",
       " 229494.55,\n",
       " 228805.91,\n",
       " 250899.07,\n",
       " 259739.35,\n",
       " 240798.56,\n",
       " 238109.72,\n",
       " 281418.03,\n",
       " 239151.61,\n",
       " 280205.27,\n",
       " 272756.53,\n",
       " 298520.02,\n",
       " 242018.37,\n",
       " 250436.94,\n",
       " 254275.73,\n",
       " 254230.21,\n",
       " 237715.74,\n",
       " 235224.73,\n",
       " 232265.54,\n",
       " 259277.18,\n",
       " 271409.44,\n",
       " 232792.93,\n",
       " 259097.55,\n",
       " 249339.52,\n",
       " 238893.91,\n",
       " 234406.36,\n",
       " 253915.96,\n",
       " 238078.87,\n",
       " 231936.29,\n",
       " 222457.51,\n",
       " 255626.72,\n",
       " 247602.36,\n",
       " 227360.23,\n",
       " 284328.96,\n",
       " 219351.89,\n",
       " 248137.05,\n",
       " 273774.05,\n",
       " 246806.65,\n",
       " 225816.56,\n",
       " 277357.78,\n",
       " 238353.7,\n",
       " 254858.86,\n",
       " 234856.36,\n",
       " 226588.62,\n",
       " 247935.5,\n",
       " 226927.95,\n",
       " 225181.88,\n",
       " 240846.68,\n",
       " 240467.47,\n",
       " 248608.01,\n",
       " 261729.62,\n",
       " 227035.49,\n",
       " 278629.2,\n",
       " 236523.12,\n",
       " 222416.49,\n",
       " 240193.11,\n",
       " 243086.94,\n",
       " 294258.8,\n",
       " 224366.03,\n",
       " 254361.39,\n",
       " 247003.95,\n",
       " 244758.73,\n",
       " 284585.2,\n",
       " 260321.86,\n",
       " 239400.63,\n",
       " 229535.14,\n",
       " 246525.47,\n",
       " 269645.3,\n",
       " 228937.44,\n",
       " 228767.83,\n",
       " 245999.3,\n",
       " 233767.78,\n",
       " 244938.45,\n",
       " 267448.28,\n",
       " 245110.1,\n",
       " 264564.71,\n",
       " 219128.94,\n",
       " 221860.43,\n",
       " 262556.25,\n",
       " 252003.71,\n",
       " 262314.42,\n",
       " 251730.64,\n",
       " 247876.09,\n",
       " 223185.07,\n",
       " 258044.72,\n",
       " 278708.4,\n",
       " 264362.95,\n",
       " 258477.93,\n",
       " 272311.21,\n",
       " 289878.68,\n",
       " 227441.23,\n",
       " 245197.29,\n",
       " 248076.5,\n",
       " 266110.44,\n",
       " 247525.17,\n",
       " 219090.04,\n",
       " 222793.7,\n",
       " 230919.67,\n",
       " 228715.49,\n",
       " 250163.1,\n",
       " 268713.5,\n",
       " 268737.76,\n",
       " 278409.92,\n",
       " 223098.15,\n",
       " 261496.17,\n",
       " 239894.57,\n",
       " 306206.67,\n",
       " 222276.55,\n",
       " 273009.56,\n",
       " 238662.95,\n",
       " 253698.68,\n",
       " 263466.82,\n",
       " 218318.76,\n",
       " 280175.95,\n",
       " 248668.8,\n",
       " 234902.2,\n",
       " 249626.02,\n",
       " 231138.15,\n",
       " 264798.08,\n",
       " 234755.9,\n",
       " 230566.11,\n",
       " 235429.79,\n",
       " 277104.8,\n",
       " 240410.79,\n",
       " 315497.6,\n",
       " 238065.59,\n",
       " 229565.95,\n",
       " 233013.3,\n",
       " 229794.44,\n",
       " 220817.57,\n",
       " 228734.21,\n",
       " 256618.11,\n",
       " 226892.03,\n",
       " 243111.61,\n",
       " 251014.23,\n",
       " 230922.38,\n",
       " 248492.44,\n",
       " 232673.86,\n",
       " 257966.97,\n",
       " 233282.32,\n",
       " 225877.49,\n",
       " 259461.84,\n",
       " 255674.94,\n",
       " 259083.16,\n",
       " 250841.05,\n",
       " 261556.56,\n",
       " 219465.03,\n",
       " 273951.68,\n",
       " 294807.32,\n",
       " 220736.86,\n",
       " 265168.9,\n",
       " 263908.89,\n",
       " 278554.98,\n",
       " 239880.69,\n",
       " 254861.76,\n",
       " 281582.84,\n",
       " 224049.27,\n",
       " 238039.66,\n",
       " 238165.9,\n",
       " 268110.52,\n",
       " 228645.15,\n",
       " 257781.92,\n",
       " 219284.2,\n",
       " 318446.05,\n",
       " 307716.1,\n",
       " 273426.75,\n",
       " 249850.51,\n",
       " 286336.94,\n",
       " 248533.33,\n",
       " 259835.69,\n",
       " 261554.61,\n",
       " 242597.19,\n",
       " 226669.55,\n",
       " 306982.28,\n",
       " 269990.25,\n",
       " 244202.66,\n",
       " 233790.85,\n",
       " 281590.41,\n",
       " 224874.12,\n",
       " 230017.17,\n",
       " 221735.9,\n",
       " 271877.51,\n",
       " 257916.69,\n",
       " 314156.06,\n",
       " 229874.06,\n",
       " 235694.88,\n",
       " 280155.01,\n",
       " 272286.3,\n",
       " 266071.13,\n",
       " 237874.32,\n",
       " 251654.81,\n",
       " 280521.57,\n",
       " 263400.0,\n",
       " 224151.28,\n",
       " 275926.27,\n",
       " 273025.14,\n",
       " 227562.89,\n",
       " 229208.81,\n",
       " 284220.42,\n",
       " 246099.93,\n",
       " 219321.41,\n",
       " 221669.11,\n",
       " 230395.29,\n",
       " 221900.52,\n",
       " 245785.16,\n",
       " 294945.51,\n",
       " 236692.29,\n",
       " 236184.68,\n",
       " 249610.99,\n",
       " 257775.44,\n",
       " 239224.53,\n",
       " 221524.92,\n",
       " 254015.02,\n",
       " 281344.22,\n",
       " 297589.88,\n",
       " 221595.07,\n",
       " 226169.32,\n",
       " 287433.9,\n",
       " 220280.21,\n",
       " 252808.74,\n",
       " 262777.69,\n",
       " 268204.62,\n",
       " 257994.73,\n",
       " 302513.77,\n",
       " 222511.73,\n",
       " 256502.28,\n",
       " 245599.1,\n",
       " 224523.8,\n",
       " 239441.23,\n",
       " 259556.53,\n",
       " 245890.1,\n",
       " 233990.98,\n",
       " 240153.33,\n",
       " 221588.52,\n",
       " 223357.39,\n",
       " 266821.59,\n",
       " 247248.66,\n",
       " 230431.69,\n",
       " 240099.97,\n",
       " 255771.26,\n",
       " 247560.19,\n",
       " 267189.12,\n",
       " 234330.77,\n",
       " 287191.2,\n",
       " 219056.42,\n",
       " 232389.85,\n",
       " 221498.71,\n",
       " 266813.88,\n",
       " 232473.44,\n",
       " 222868.81,\n",
       " 241680.07,\n",
       " 284205.22,\n",
       " 241811.15,\n",
       " 240301.92,\n",
       " 254522.41,\n",
       " 221354.25,\n",
       " 247084.9,\n",
       " 238778.59,\n",
       " 223837.82,\n",
       " 219968.65,\n",
       " 232462.72,\n",
       " 311734.49,\n",
       " 319210.27,\n",
       " 225324.61,\n",
       " 242673.44,\n",
       " 242507.42,\n",
       " 244049.04,\n",
       " 274436.62,\n",
       " 240609.17,\n",
       " 231149.93,\n",
       " 218826.0,\n",
       " 255033.75,\n",
       " 228520.51,\n",
       " 285088.16,\n",
       " 221058.13,\n",
       " 235454.33,\n",
       " 285256.54,\n",
       " 222177.4,\n",
       " 232933.22,\n",
       " 239617.43,\n",
       " 233585.11,\n",
       " 249452.91,\n",
       " 227133.68,\n",
       " 239600.76,\n",
       " 242466.81,\n",
       " 225057.61,\n",
       " 278250.32,\n",
       " 241928.36,\n",
       " 250319.73,\n",
       " 225036.07,\n",
       " 249907.87,\n",
       " 252692.71,\n",
       " 264947.49,\n",
       " 223062.79,\n",
       " 229456.89,\n",
       " 249394.83,\n",
       " 238788.29,\n",
       " 225440.67,\n",
       " 221757.19,\n",
       " 218823.72,\n",
       " 240922.83,\n",
       " 232029.62,\n",
       " 254157.54,\n",
       " 270184.42,\n",
       " 238178.7,\n",
       " 227683.38,\n",
       " 270599.15,\n",
       " 232111.27,\n",
       " 264303.76,\n",
       " 243190.47,\n",
       " 226982.69,\n",
       " 230428.5,\n",
       " 275211.23,\n",
       " 232068.71,\n",
       " 231426.9,\n",
       " 223673.34,\n",
       " 252661.63,\n",
       " 242247.08,\n",
       " 235875.97,\n",
       " 229568.14,\n",
       " 247355.35,\n",
       " 265969.8,\n",
       " 231545.19,\n",
       " 232467.06,\n",
       " 247626.74,\n",
       " 242347.14,\n",
       " 220664.53,\n",
       " 248375.16,\n",
       " 218488.72,\n",
       " 236625.64,\n",
       " 268376.5,\n",
       " 280482.51,\n",
       " 234308.77,\n",
       " 272715.74,\n",
       " 273772.47,\n",
       " 279174.79]"
      ]
     },
     "execution_count": 42,
     "metadata": {},
     "output_type": "execute_result"
    }
   ],
   "source": [
    "outliers"
   ]
  },
  {
   "cell_type": "code",
   "execution_count": 43,
   "id": "9d4ecfa7",
   "metadata": {},
   "outputs": [
    {
     "data": {
      "text/plain": [
       "427"
      ]
     },
     "execution_count": 43,
     "metadata": {},
     "output_type": "execute_result"
    }
   ],
   "source": [
    "len(outliers)"
   ]
  },
  {
   "cell_type": "code",
   "execution_count": 46,
   "id": "e5e6f11e",
   "metadata": {},
   "outputs": [],
   "source": [
    "out=[i for i in outliers if i<LB]"
   ]
  },
  {
   "cell_type": "code",
   "execution_count": 47,
   "id": "2228f3a5",
   "metadata": {},
   "outputs": [
    {
     "data": {
      "text/plain": [
       "[]"
      ]
     },
     "execution_count": 47,
     "metadata": {},
     "output_type": "execute_result"
    }
   ],
   "source": [
    "out"
   ]
  },
  {
   "cell_type": "code",
   "execution_count": null,
   "id": "f9329418",
   "metadata": {},
   "outputs": [],
   "source": []
  }
 ],
 "metadata": {
  "kernelspec": {
   "display_name": "Python 3 (ipykernel)",
   "language": "python",
   "name": "python3"
  },
  "language_info": {
   "codemirror_mode": {
    "name": "ipython",
    "version": 3
   },
   "file_extension": ".py",
   "mimetype": "text/x-python",
   "name": "python",
   "nbconvert_exporter": "python",
   "pygments_lexer": "ipython3",
   "version": "3.11.3"
  }
 },
 "nbformat": 4,
 "nbformat_minor": 5
}
