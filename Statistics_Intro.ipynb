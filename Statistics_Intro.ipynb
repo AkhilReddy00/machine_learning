{
 "cells": [
  {
   "cell_type": "code",
   "execution_count": null,
   "id": "b53897e5",
   "metadata": {},
   "outputs": [],
   "source": [
    "Step - 1 : Perform eda\n",
    "Step - 2 : Develop a ML algorith\n",
    "Step - 3 : Performance metrics\n",
    "Step - 4 : Tune the mode: Hyperparameter tuning\n",
    "Step - 5 : Repeat Step-3 and step-4\n",
    "Step - 6 : Model deployment"
   ]
  },
  {
   "cell_type": "code",
   "execution_count": null,
   "id": "11c8b6e0",
   "metadata": {},
   "outputs": [],
   "source": [
    "What is Statistics?\n",
    "\n",
    "- Collect the data\n",
    "- Analyse the data\n",
    "- Calculate the data\n",
    "- Behaviour of the data\n",
    "- Prediction of data"
   ]
  },
  {
   "cell_type": "code",
   "execution_count": null,
   "id": "af600325",
   "metadata": {},
   "outputs": [],
   "source": [
    "Data is divided into two types : \n",
    "\n",
    "- Numerical Data : Numbers == Quantitative data\n",
    "    - int == discrete ,\n",
    "    - float == continous\n",
    "- Categorical data : Qualitative data"
   ]
  },
  {
   "cell_type": "code",
   "execution_count": null,
   "id": "7452e46d",
   "metadata": {},
   "outputs": [],
   "source": [
    "Data is divided into two parts\n",
    "\n",
    "1. Population : each and every data point included\n",
    "Each and every person included\n",
    "\n",
    "2. Sample : few observations\n",
    "Hyderabd , warnagal ,karimanagar"
   ]
  },
  {
   "cell_type": "code",
   "execution_count": null,
   "id": "21550182",
   "metadata": {},
   "outputs": [],
   "source": [
    "# We are analyse on sample ========= prediction on population\n",
    "\n",
    "Inferential Statistics\n",
    " \n",
    "- Based on sample output estimation population output\n",
    "- Mean value of sample ========== mean value of population\n",
    "- Median value of sample ===== median value of population\n",
    "- Mode value of sample ======= mode value"
   ]
  },
  {
   "cell_type": "code",
   "execution_count": null,
   "id": "ed2fdb32",
   "metadata": {},
   "outputs": [],
   "source": [
    "# We are analyse on population ======= result also on population\n",
    "\n",
    "Descriptive Statistics"
   ]
  },
  {
   "cell_type": "code",
   "execution_count": null,
   "id": "f885dde2",
   "metadata": {},
   "outputs": [],
   "source": [
    "Data =====  1lakh observations\n",
    "\n",
    "80k : train data 20k : test data\n",
    "        \n",
    "I want to develop my model on 80k observations\n",
    "I will test my model on 20k observations"
   ]
  },
  {
   "cell_type": "code",
   "execution_count": null,
   "id": "ec741fbd",
   "metadata": {},
   "outputs": [],
   "source": [
    "Why people will prefer work on sample over the population\n",
    "\n",
    "- Time\n",
    "- Resources\n",
    "- Money\n",
    "\n",
    "Population does not really exist"
   ]
  },
  {
   "cell_type": "code",
   "execution_count": null,
   "id": "1fae77ca",
   "metadata": {},
   "outputs": [],
   "source": [
    "- What is population\n",
    "- What is sample\n",
    "- Difference between population and sample\n",
    "- What is inferential statistics\n",
    "- What is descriptive statistics\n",
    "- Types of data"
   ]
  },
  {
   "cell_type": "code",
   "execution_count": null,
   "id": "0429ff58",
   "metadata": {},
   "outputs": [],
   "source": [
    "Types of data is divided in two parts :\n",
    "- Categorical data\n",
    "- Numerical data\n",
    "\n",
    "a. Nominal data ===== No order\n",
    "b. Ordinal data ==== has order\n",
    "c. Interval data ==== has order in numerical way\n",
    "d. Ratio level data ==== it has zero scale"
   ]
  },
  {
   "cell_type": "code",
   "execution_count": null,
   "id": "0428f239",
   "metadata": {},
   "outputs": [],
   "source": [
    "Nominal data\n",
    "- Exists only in name\n",
    "- There is no relationship between the names\n",
    "- Ex : city names : Hyd blr Chennai Mumbai delhi"
   ]
  },
  {
   "cell_type": "code",
   "execution_count": null,
   "id": "2e98c0aa",
   "metadata": {},
   "outputs": [],
   "source": [
    "ordinal data\n",
    "- In order\n",
    "- Ex : One Two Three\n",
    "     : Primary Secondary\n",
    "     : Grade A Grade B"
   ]
  },
  {
   "cell_type": "code",
   "execution_count": null,
   "id": "6f13a91b",
   "metadata": {},
   "outputs": [],
   "source": [
    "Ratio level data vs Interval level data\n",
    "- Both will fall under the numerical data\n",
    "- Interval data : maintain some order w.r.t to numbers\n",
    "- Ratio level data : a=2b a/b = 2/1"
   ]
  },
  {
   "cell_type": "code",
   "execution_count": null,
   "id": "eb00c384",
   "metadata": {},
   "outputs": [],
   "source": []
  }
 ],
 "metadata": {
  "kernelspec": {
   "display_name": "Python 3 (ipykernel)",
   "language": "python",
   "name": "python3"
  },
  "language_info": {
   "codemirror_mode": {
    "name": "ipython",
    "version": 3
   },
   "file_extension": ".py",
   "mimetype": "text/x-python",
   "name": "python",
   "nbconvert_exporter": "python",
   "pygments_lexer": "ipython3",
   "version": "3.11.3"
  }
 },
 "nbformat": 4,
 "nbformat_minor": 5
}
